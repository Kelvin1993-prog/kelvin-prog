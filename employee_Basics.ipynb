{
 "cells": [
  {
   "cell_type": "markdown",
   "metadata": {
    "collapsed": true
   },
   "source": [
    "# Employee Exit Surveys #"
   ]
  },
  {
   "cell_type": "markdown",
   "metadata": {},
   "source": [
    "In this document, I will assess exit surveys from employees of the Department of Education, Training and Employment (DETE) and the Technical and Further Education (TAFE) institute in Queensland, Australia. There are two main areas I must investigate for our stakeholders:\n",
    "- Are employees who only worked for the institutes for a short period of time resigning due to some kind of dissatisfaction? What about employees who have been there longer?\n",
    "- Are younger employees resigning due to some kind of dissatisfaction? What about older employees?\n",
    "\n",
    "In order to answer these questions, I must clean up the data from both dataframes and combine them where necessary. At the conclusion of the document, I will answer the above inquiries and give some suggestions about how to retain employees and hire new ones."
   ]
  },
  {
   "cell_type": "code",
   "execution_count": 1,
   "metadata": {
    "collapsed": false
   },
   "outputs": [],
   "source": [
    "import pandas as pd\n",
    "import numpy as np\n",
    "import matplotlib.pyplot as plt\n",
    "%matplotlib inline\n",
    "dete_survey = pd.read_csv(\"dete_survey.csv\")\n",
    "tafe_survey = pd.read_csv(\"tafe_survey.csv\")"
   ]
  },
  {
   "cell_type": "markdown",
   "metadata": {},
   "source": [
    "### Dete_Survey Exploration ###"
   ]
  },
  {
   "cell_type": "code",
   "execution_count": 2,
   "metadata": {
    "collapsed": false
   },
   "outputs": [
    {
     "name": "stdout",
     "output_type": "stream",
     "text": [
      "<class 'pandas.core.frame.DataFrame'>\n",
      "RangeIndex: 822 entries, 0 to 821\n",
      "Data columns (total 56 columns):\n",
      "ID                                     822 non-null int64\n",
      "SeparationType                         822 non-null object\n",
      "Cease Date                             822 non-null object\n",
      "DETE Start Date                        822 non-null object\n",
      "Role Start Date                        822 non-null object\n",
      "Position                               817 non-null object\n",
      "Classification                         455 non-null object\n",
      "Region                                 822 non-null object\n",
      "Business Unit                          126 non-null object\n",
      "Employment Status                      817 non-null object\n",
      "Career move to public sector           822 non-null bool\n",
      "Career move to private sector          822 non-null bool\n",
      "Interpersonal conflicts                822 non-null bool\n",
      "Job dissatisfaction                    822 non-null bool\n",
      "Dissatisfaction with the department    822 non-null bool\n",
      "Physical work environment              822 non-null bool\n",
      "Lack of recognition                    822 non-null bool\n",
      "Lack of job security                   822 non-null bool\n",
      "Work location                          822 non-null bool\n",
      "Employment conditions                  822 non-null bool\n",
      "Maternity/family                       822 non-null bool\n",
      "Relocation                             822 non-null bool\n",
      "Study/Travel                           822 non-null bool\n",
      "Ill Health                             822 non-null bool\n",
      "Traumatic incident                     822 non-null bool\n",
      "Work life balance                      822 non-null bool\n",
      "Workload                               822 non-null bool\n",
      "None of the above                      822 non-null bool\n",
      "Professional Development               808 non-null object\n",
      "Opportunities for promotion            735 non-null object\n",
      "Staff morale                           816 non-null object\n",
      "Workplace issue                        788 non-null object\n",
      "Physical environment                   817 non-null object\n",
      "Worklife balance                       815 non-null object\n",
      "Stress and pressure support            810 non-null object\n",
      "Performance of supervisor              813 non-null object\n",
      "Peer support                           812 non-null object\n",
      "Initiative                             813 non-null object\n",
      "Skills                                 811 non-null object\n",
      "Coach                                  767 non-null object\n",
      "Career Aspirations                     746 non-null object\n",
      "Feedback                               792 non-null object\n",
      "Further PD                             768 non-null object\n",
      "Communication                          814 non-null object\n",
      "My say                                 812 non-null object\n",
      "Information                            816 non-null object\n",
      "Kept informed                          813 non-null object\n",
      "Wellness programs                      766 non-null object\n",
      "Health & Safety                        793 non-null object\n",
      "Gender                                 798 non-null object\n",
      "Age                                    811 non-null object\n",
      "Aboriginal                             16 non-null object\n",
      "Torres Strait                          3 non-null object\n",
      "South Sea                              7 non-null object\n",
      "Disability                             23 non-null object\n",
      "NESB                                   32 non-null object\n",
      "dtypes: bool(18), int64(1), object(37)\n",
      "memory usage: 258.6+ KB\n",
      "None\n",
      "   ID                    SeparationType Cease Date DETE Start Date  \\\n",
      "0   1             Ill Health Retirement    08/2012            1984   \n",
      "1   2  Voluntary Early Retirement (VER)    08/2012      Not Stated   \n",
      "2   3  Voluntary Early Retirement (VER)    05/2012            2011   \n",
      "3   4         Resignation-Other reasons    05/2012            2005   \n",
      "4   5                    Age Retirement    05/2012            1970   \n",
      "\n",
      "  Role Start Date                                      Position  \\\n",
      "0            2004                                Public Servant   \n",
      "1      Not Stated                                Public Servant   \n",
      "2            2011                               Schools Officer   \n",
      "3            2006                                       Teacher   \n",
      "4            1989  Head of Curriculum/Head of Special Education   \n",
      "\n",
      "  Classification              Region                      Business Unit  \\\n",
      "0        A01-A04      Central Office  Corporate Strategy and Peformance   \n",
      "1        AO5-AO7      Central Office  Corporate Strategy and Peformance   \n",
      "2            NaN      Central Office               Education Queensland   \n",
      "3        Primary  Central Queensland                                NaN   \n",
      "4            NaN          South East                                NaN   \n",
      "\n",
      "     Employment Status  ...   Kept informed  Wellness programs  \\\n",
      "0  Permanent Full-time  ...               N                  N   \n",
      "1  Permanent Full-time  ...               N                  N   \n",
      "2  Permanent Full-time  ...               N                  N   \n",
      "3  Permanent Full-time  ...               A                  N   \n",
      "4  Permanent Full-time  ...               N                  A   \n",
      "\n",
      "   Health & Safety  Gender          Age  Aboriginal  Torres Strait  South Sea  \\\n",
      "0                N    Male        56-60         NaN            NaN        NaN   \n",
      "1                N    Male        56-60         NaN            NaN        NaN   \n",
      "2                N    Male  61 or older         NaN            NaN        NaN   \n",
      "3                A  Female        36-40         NaN            NaN        NaN   \n",
      "4                M  Female  61 or older         NaN            NaN        NaN   \n",
      "\n",
      "   Disability  NESB  \n",
      "0         NaN   Yes  \n",
      "1         NaN   NaN  \n",
      "2         NaN   NaN  \n",
      "3         NaN   NaN  \n",
      "4         NaN   NaN  \n",
      "\n",
      "[5 rows x 56 columns]\n"
     ]
    }
   ],
   "source": [
    "# Information for dete_survey\n",
    "print(dete_survey.info())\n",
    "print(dete_survey.head())\n",
    "# There are 822 rows and 56 columns. Many columns have\n",
    "# null values. \n",
    "# Most of the values are objects, including \"Age\"\n",
    "# I will need to clean the titles since they all have different\n",
    "# formats."
   ]
  },
  {
   "cell_type": "code",
   "execution_count": 3,
   "metadata": {
    "collapsed": false
   },
   "outputs": [
    {
     "data": {
      "text/plain": [
       "ID                                       0\n",
       "SeparationType                           0\n",
       "Cease Date                               0\n",
       "DETE Start Date                          0\n",
       "Role Start Date                          0\n",
       "Position                                 5\n",
       "Classification                         367\n",
       "Region                                   0\n",
       "Business Unit                          696\n",
       "Employment Status                        5\n",
       "Career move to public sector             0\n",
       "Career move to private sector            0\n",
       "Interpersonal conflicts                  0\n",
       "Job dissatisfaction                      0\n",
       "Dissatisfaction with the department      0\n",
       "Physical work environment                0\n",
       "Lack of recognition                      0\n",
       "Lack of job security                     0\n",
       "Work location                            0\n",
       "Employment conditions                    0\n",
       "Maternity/family                         0\n",
       "Relocation                               0\n",
       "Study/Travel                             0\n",
       "Ill Health                               0\n",
       "Traumatic incident                       0\n",
       "Work life balance                        0\n",
       "Workload                                 0\n",
       "None of the above                        0\n",
       "Professional Development                14\n",
       "Opportunities for promotion             87\n",
       "Staff morale                             6\n",
       "Workplace issue                         34\n",
       "Physical environment                     5\n",
       "Worklife balance                         7\n",
       "Stress and pressure support             12\n",
       "Performance of supervisor                9\n",
       "Peer support                            10\n",
       "Initiative                               9\n",
       "Skills                                  11\n",
       "Coach                                   55\n",
       "Career Aspirations                      76\n",
       "Feedback                                30\n",
       "Further PD                              54\n",
       "Communication                            8\n",
       "My say                                  10\n",
       "Information                              6\n",
       "Kept informed                            9\n",
       "Wellness programs                       56\n",
       "Health & Safety                         29\n",
       "Gender                                  24\n",
       "Age                                     11\n",
       "Aboriginal                             806\n",
       "Torres Strait                          819\n",
       "South Sea                              815\n",
       "Disability                             799\n",
       "NESB                                   790\n",
       "dtype: int64"
      ]
     },
     "execution_count": 3,
     "metadata": {},
     "output_type": "execute_result"
    }
   ],
   "source": [
    "# In order to see the number of null values in each column, \n",
    "# I will use isnull() and sum() to create a null table.\n",
    "dete_survey.isnull().sum() "
   ]
  },
  {
   "cell_type": "markdown",
   "metadata": {
    "collapsed": true
   },
   "source": [
    "I will explore some of the columns with a large number of null vales, like \"Aboriginal\", \"South Sea\", \"Disability\", \"Classification, and \"Business Unit.\""
   ]
  },
  {
   "cell_type": "code",
   "execution_count": 4,
   "metadata": {
    "collapsed": false
   },
   "outputs": [
    {
     "data": {
      "text/plain": [
       "NaN    806\n",
       "Yes     16\n",
       "Name: Aboriginal, dtype: int64"
      ]
     },
     "execution_count": 4,
     "metadata": {},
     "output_type": "execute_result"
    }
   ],
   "source": [
    "dete_survey[\"Aboriginal\"].value_counts(dropna=False)\n",
    "# It appears that null values are used instead of \"No.\" "
   ]
  },
  {
   "cell_type": "code",
   "execution_count": 5,
   "metadata": {
    "collapsed": false
   },
   "outputs": [
    {
     "data": {
      "text/plain": [
       "NaN    815\n",
       "Yes      7\n",
       "Name: South Sea, dtype: int64"
      ]
     },
     "execution_count": 5,
     "metadata": {},
     "output_type": "execute_result"
    }
   ],
   "source": [
    "dete_survey[\"South Sea\"].value_counts(dropna=False)\n",
    "# NaN is used instead of \"No\""
   ]
  },
  {
   "cell_type": "code",
   "execution_count": 6,
   "metadata": {
    "collapsed": false
   },
   "outputs": [
    {
     "data": {
      "text/plain": [
       "NaN    799\n",
       "Yes     23\n",
       "Name: Disability, dtype: int64"
      ]
     },
     "execution_count": 6,
     "metadata": {},
     "output_type": "execute_result"
    }
   ],
   "source": [
    "dete_survey[\"Disability\"].value_counts(dropna=False)\n",
    "# NaN is used instead of \"No\""
   ]
  },
  {
   "cell_type": "code",
   "execution_count": 7,
   "metadata": {
    "collapsed": false
   },
   "outputs": [
    {
     "data": {
      "text/plain": [
       "NaN                  367\n",
       "Primary              161\n",
       "Secondary            124\n",
       "A01-A04               66\n",
       "AO5-AO7               46\n",
       "Special Education     33\n",
       "AO8 and Above         14\n",
       "PO1-PO4                8\n",
       "Middle                 3\n",
       "Name: Classification, dtype: int64"
      ]
     },
     "execution_count": 7,
     "metadata": {},
     "output_type": "execute_result"
    }
   ],
   "source": [
    "dete_survey[\"Classification\"].value_counts(dropna=False)\n",
    "# NaN appears to be an unknown value, since this was not a\n",
    "# binary question"
   ]
  },
  {
   "cell_type": "code",
   "execution_count": 8,
   "metadata": {
    "collapsed": false
   },
   "outputs": [
    {
     "data": {
      "text/plain": [
       "NaN                                           696\n",
       "Education Queensland                           54\n",
       "Information and Technologies                   26\n",
       "Training and Tertiary Education Queensland     12\n",
       "Other                                          11\n",
       "Human Resources                                 6\n",
       "Corporate Strategy and Peformance               5\n",
       "Early Childhood Education and Care              3\n",
       "Infrastructure                                  2\n",
       "Policy, Research, Legislation                   2\n",
       "Finance                                         1\n",
       "Corporate Procurement                           1\n",
       "Indigenous Education and Training Futures       1\n",
       "Pacific Pines SHS                               1\n",
       "Calliope State School                           1\n",
       "Name: Business Unit, dtype: int64"
      ]
     },
     "execution_count": 8,
     "metadata": {},
     "output_type": "execute_result"
    }
   ],
   "source": [
    "dete_survey[\"Business Unit\"].value_counts(dropna=False)\n",
    "# NaN appears to be an unknown value, since this was not a\n",
    "# binary question"
   ]
  },
  {
   "cell_type": "markdown",
   "metadata": {},
   "source": [
    "I will now look in the dete_survey to inspect some columns important to the stakeholders: \"Age\" and \"Separation Type\"."
   ]
  },
  {
   "cell_type": "code",
   "execution_count": 9,
   "metadata": {
    "collapsed": false
   },
   "outputs": [
    {
     "data": {
      "text/plain": [
       "61 or older      222\n",
       "56-60            174\n",
       "51-55            103\n",
       "46-50             63\n",
       "41-45             61\n",
       "26-30             57\n",
       "36-40             51\n",
       "21-25             40\n",
       "31-35             39\n",
       "NaN               11\n",
       "20 or younger      1\n",
       "Name: Age, dtype: int64"
      ]
     },
     "execution_count": 9,
     "metadata": {},
     "output_type": "execute_result"
    }
   ],
   "source": [
    "dete_survey[\"Age\"].value_counts(dropna=False)\n",
    "# I can see that there is a wide range of ages in the company\n",
    "# Age is stored in ranges, so I will need to change that if I \n",
    "# want to take averages."
   ]
  },
  {
   "cell_type": "code",
   "execution_count": 10,
   "metadata": {
    "collapsed": false
   },
   "outputs": [
    {
     "data": {
      "text/plain": [
       "Age Retirement                          285\n",
       "Resignation-Other reasons               150\n",
       "Resignation-Other employer               91\n",
       "Resignation-Move overseas/interstate     70\n",
       "Voluntary Early Retirement (VER)         67\n",
       "Ill Health Retirement                    61\n",
       "Other                                    49\n",
       "Contract Expired                         34\n",
       "Termination                              15\n",
       "Name: SeparationType, dtype: int64"
      ]
     },
     "execution_count": 10,
     "metadata": {},
     "output_type": "execute_result"
    }
   ],
   "source": [
    "dete_survey[\"SeparationType\"].value_counts(dropna=False)\n",
    "# There are multiple reasons someone may have left the company."
   ]
  },
  {
   "cell_type": "code",
   "execution_count": 11,
   "metadata": {
    "collapsed": false
   },
   "outputs": [
    {
     "data": {
      "text/plain": [
       "SeparationType                        Age          \n",
       "Age Retirement                        46-50              1\n",
       "                                      51-55             40\n",
       "                                      56-60             94\n",
       "                                      61 or older      149\n",
       "Contract Expired                      21-25              6\n",
       "                                      26-30              6\n",
       "                                      31-35              5\n",
       "                                      36-40              4\n",
       "                                      41-45              4\n",
       "                                      46-50              2\n",
       "                                      51-55              2\n",
       "                                      56-60              1\n",
       "                                      61 or older        4\n",
       "Ill Health Retirement                 41-45              4\n",
       "                                      46-50              6\n",
       "                                      51-55              7\n",
       "                                      56-60             23\n",
       "                                      61 or older       19\n",
       "Other                                 21-25              4\n",
       "                                      26-30              7\n",
       "                                      36-40              5\n",
       "                                      41-45              4\n",
       "                                      46-50              5\n",
       "                                      51-55              7\n",
       "                                      56-60              7\n",
       "                                      61 or older        8\n",
       "Resignation-Move overseas/interstate  21-25             11\n",
       "                                      26-30             10\n",
       "                                      31-35              9\n",
       "                                      36-40             10\n",
       "                                                      ... \n",
       "Resignation-Other employer            41-45             19\n",
       "                                      46-50             16\n",
       "                                      51-55              6\n",
       "                                      56-60              7\n",
       "                                      61 or older        1\n",
       "Resignation-Other reasons             20 or younger      1\n",
       "                                      21-25              9\n",
       "                                      26-30             14\n",
       "                                      31-35             11\n",
       "                                      36-40             18\n",
       "                                      41-45             20\n",
       "                                      46-50             21\n",
       "                                      51-55             21\n",
       "                                      56-60             16\n",
       "                                      61 or older       17\n",
       "Termination                           26-30              2\n",
       "                                      31-35              1\n",
       "                                      36-40              1\n",
       "                                      46-50              2\n",
       "                                      51-55              4\n",
       "                                      56-60              3\n",
       "                                      61 or older        2\n",
       "Voluntary Early Retirement (VER)      21-25              1\n",
       "                                      26-30              7\n",
       "                                      31-35              4\n",
       "                                      41-45              1\n",
       "                                      46-50              5\n",
       "                                      51-55             11\n",
       "                                      56-60             20\n",
       "                                      61 or older       17\n",
       "Length: 69, dtype: int64"
      ]
     },
     "execution_count": 11,
     "metadata": {},
     "output_type": "execute_result"
    }
   ],
   "source": [
    "dete_survey.groupby([\"SeparationType\", \"Age\"]).size()\n",
    "# This allows me to get an idea of how to answer the\n",
    "# stockholders' questions. I can see the age groups for each\n",
    "# leaving reason. This will need to be cleaned up."
   ]
  },
  {
   "cell_type": "markdown",
   "metadata": {},
   "source": [
    "### Tafe_Survey Exploration ###"
   ]
  },
  {
   "cell_type": "code",
   "execution_count": 12,
   "metadata": {
    "collapsed": false
   },
   "outputs": [
    {
     "name": "stdout",
     "output_type": "stream",
     "text": [
      "<class 'pandas.core.frame.DataFrame'>\n",
      "RangeIndex: 702 entries, 0 to 701\n",
      "Data columns (total 72 columns):\n",
      "Record ID                                                                                                                                                        702 non-null float64\n",
      "Institute                                                                                                                                                        702 non-null object\n",
      "WorkArea                                                                                                                                                         702 non-null object\n",
      "CESSATION YEAR                                                                                                                                                   695 non-null float64\n",
      "Reason for ceasing employment                                                                                                                                    701 non-null object\n",
      "Contributing Factors. Career Move - Public Sector                                                                                                                437 non-null object\n",
      "Contributing Factors. Career Move - Private Sector                                                                                                               437 non-null object\n",
      "Contributing Factors. Career Move - Self-employment                                                                                                              437 non-null object\n",
      "Contributing Factors. Ill Health                                                                                                                                 437 non-null object\n",
      "Contributing Factors. Maternity/Family                                                                                                                           437 non-null object\n",
      "Contributing Factors. Dissatisfaction                                                                                                                            437 non-null object\n",
      "Contributing Factors. Job Dissatisfaction                                                                                                                        437 non-null object\n",
      "Contributing Factors. Interpersonal Conflict                                                                                                                     437 non-null object\n",
      "Contributing Factors. Study                                                                                                                                      437 non-null object\n",
      "Contributing Factors. Travel                                                                                                                                     437 non-null object\n",
      "Contributing Factors. Other                                                                                                                                      437 non-null object\n",
      "Contributing Factors. NONE                                                                                                                                       437 non-null object\n",
      "Main Factor. Which of these was the main factor for leaving?                                                                                                     113 non-null object\n",
      "InstituteViews. Topic:1. I feel the senior leadership had a clear vision and direction                                                                           608 non-null object\n",
      "InstituteViews. Topic:2. I was given access to skills training to help me do my job better                                                                       613 non-null object\n",
      "InstituteViews. Topic:3. I was given adequate opportunities for personal development                                                                             610 non-null object\n",
      "InstituteViews. Topic:4. I was given adequate opportunities for promotion within %Institute]Q25LBL%                                                              608 non-null object\n",
      "InstituteViews. Topic:5. I felt the salary for the job was right for the responsibilities I had                                                                  615 non-null object\n",
      "InstituteViews. Topic:6. The organisation recognised when staff did good work                                                                                    607 non-null object\n",
      "InstituteViews. Topic:7. Management was generally supportive of me                                                                                               614 non-null object\n",
      "InstituteViews. Topic:8. Management was generally supportive of my team                                                                                          608 non-null object\n",
      "InstituteViews. Topic:9. I was kept informed of the changes in the organisation which would affect me                                                            610 non-null object\n",
      "InstituteViews. Topic:10. Staff morale was positive within the Institute                                                                                         602 non-null object\n",
      "InstituteViews. Topic:11. If I had a workplace issue it was dealt with quickly                                                                                   601 non-null object\n",
      "InstituteViews. Topic:12. If I had a workplace issue it was dealt with efficiently                                                                               597 non-null object\n",
      "InstituteViews. Topic:13. If I had a workplace issue it was dealt with discreetly                                                                                601 non-null object\n",
      "WorkUnitViews. Topic:14. I was satisfied with the quality of the management and supervision within my work unit                                                  609 non-null object\n",
      "WorkUnitViews. Topic:15. I worked well with my colleagues                                                                                                        605 non-null object\n",
      "WorkUnitViews. Topic:16. My job was challenging and interesting                                                                                                  607 non-null object\n",
      "WorkUnitViews. Topic:17. I was encouraged to use my initiative in the course of my work                                                                          610 non-null object\n",
      "WorkUnitViews. Topic:18. I had sufficient contact with other people in my job                                                                                    613 non-null object\n",
      "WorkUnitViews. Topic:19. I was given adequate support and co-operation by my peers to enable me to do my job                                                     609 non-null object\n",
      "WorkUnitViews. Topic:20. I was able to use the full range of my skills in my job                                                                                 609 non-null object\n",
      "WorkUnitViews. Topic:21. I was able to use the full range of my abilities in my job. ; Category:Level of Agreement; Question:YOUR VIEWS ABOUT YOUR WORK UNIT]    608 non-null object\n",
      "WorkUnitViews. Topic:22. I was able to use the full range of my knowledge in my job                                                                              608 non-null object\n",
      "WorkUnitViews. Topic:23. My job provided sufficient variety                                                                                                      611 non-null object\n",
      "WorkUnitViews. Topic:24. I was able to cope with the level of stress and pressure in my job                                                                      610 non-null object\n",
      "WorkUnitViews. Topic:25. My job allowed me to balance the demands of work and family to my satisfaction                                                          611 non-null object\n",
      "WorkUnitViews. Topic:26. My supervisor gave me adequate personal recognition and feedback on my performance                                                      606 non-null object\n",
      "WorkUnitViews. Topic:27. My working environment was satisfactory e.g. sufficient space, good lighting, suitable seating and working area                         610 non-null object\n",
      "WorkUnitViews. Topic:28. I was given the opportunity to mentor and coach others in order for me to pass on my skills and knowledge prior to my cessation date    609 non-null object\n",
      "WorkUnitViews. Topic:29. There was adequate communication between staff in my unit                                                                               603 non-null object\n",
      "WorkUnitViews. Topic:30. Staff morale was positive within my work unit                                                                                           606 non-null object\n",
      "Induction. Did you undertake Workplace Induction?                                                                                                                619 non-null object\n",
      "InductionInfo. Topic:Did you undertake a Corporate Induction?                                                                                                    432 non-null object\n",
      "InductionInfo. Topic:Did you undertake a Institute Induction?                                                                                                    483 non-null object\n",
      "InductionInfo. Topic: Did you undertake Team Induction?                                                                                                          440 non-null object\n",
      "InductionInfo. Face to Face Topic:Did you undertake a Corporate Induction; Category:How it was conducted?                                                        555 non-null object\n",
      "InductionInfo. On-line Topic:Did you undertake a Corporate Induction; Category:How it was conducted?                                                             555 non-null object\n",
      "InductionInfo. Induction Manual Topic:Did you undertake a Corporate Induction?                                                                                   555 non-null object\n",
      "InductionInfo. Face to Face Topic:Did you undertake a Institute Induction?                                                                                       530 non-null object\n",
      "InductionInfo. On-line Topic:Did you undertake a Institute Induction?                                                                                            555 non-null object\n",
      "InductionInfo. Induction Manual Topic:Did you undertake a Institute Induction?                                                                                   553 non-null object\n",
      "InductionInfo. Face to Face Topic: Did you undertake Team Induction; Category?                                                                                   555 non-null object\n",
      "InductionInfo. On-line Topic: Did you undertake Team Induction?process you undertook and how it was conducted.]                                                  555 non-null object\n",
      "InductionInfo. Induction Manual Topic: Did you undertake Team Induction?                                                                                         555 non-null object\n",
      "Workplace. Topic:Did you and your Manager develop a Performance and Professional Development Plan (PPDP)?                                                        608 non-null object\n",
      "Workplace. Topic:Does your workplace promote a work culture free from all forms of unlawful discrimination?                                                      594 non-null object\n",
      "Workplace. Topic:Does your workplace promote and practice the principles of employment equity?                                                                   587 non-null object\n",
      "Workplace. Topic:Does your workplace value the diversity of its employees?                                                                                       586 non-null object\n",
      "Workplace. Topic:Would you recommend the Institute as an employer to others?                                                                                     581 non-null object\n",
      "Gender. What is your Gender?                                                                                                                                     596 non-null object\n",
      "CurrentAge. Current Age                                                                                                                                          596 non-null object\n",
      "Employment Type. Employment Type                                                                                                                                 596 non-null object\n",
      "Classification. Classification                                                                                                                                   596 non-null object\n",
      "LengthofServiceOverall. Overall Length of Service at Institute (in years)                                                                                        596 non-null object\n",
      "LengthofServiceCurrent. Length of Service at current workplace (in years)                                                                                        596 non-null object\n",
      "dtypes: float64(2), object(70)\n",
      "memory usage: 395.0+ KB\n",
      "None\n",
      "      Record ID                              Institute  \\\n",
      "0  6.341330e+17  Southern Queensland Institute of TAFE   \n",
      "1  6.341337e+17            Mount Isa Institute of TAFE   \n",
      "2  6.341388e+17            Mount Isa Institute of TAFE   \n",
      "3  6.341399e+17            Mount Isa Institute of TAFE   \n",
      "4  6.341466e+17  Southern Queensland Institute of TAFE   \n",
      "\n",
      "                   WorkArea  CESSATION YEAR Reason for ceasing employment  \\\n",
      "0  Non-Delivery (corporate)          2010.0              Contract Expired   \n",
      "1  Non-Delivery (corporate)          2010.0                    Retirement   \n",
      "2       Delivery (teaching)          2010.0                    Retirement   \n",
      "3  Non-Delivery (corporate)          2010.0                   Resignation   \n",
      "4       Delivery (teaching)          2010.0                   Resignation   \n",
      "\n",
      "  Contributing Factors. Career Move - Public Sector   \\\n",
      "0                                                NaN   \n",
      "1                                                  -   \n",
      "2                                                  -   \n",
      "3                                                  -   \n",
      "4                                                  -   \n",
      "\n",
      "  Contributing Factors. Career Move - Private Sector   \\\n",
      "0                                                NaN    \n",
      "1                                                  -    \n",
      "2                                                  -    \n",
      "3                                                  -    \n",
      "4                       Career Move - Private Sector    \n",
      "\n",
      "  Contributing Factors. Career Move - Self-employment  \\\n",
      "0                                                NaN    \n",
      "1                                                  -    \n",
      "2                                                  -    \n",
      "3                                                  -    \n",
      "4                                                  -    \n",
      "\n",
      "  Contributing Factors. Ill Health Contributing Factors. Maternity/Family  \\\n",
      "0                              NaN                                    NaN   \n",
      "1                                -                                      -   \n",
      "2                                -                                      -   \n",
      "3                                -                                      -   \n",
      "4                                -                                      -   \n",
      "\n",
      "                                     ...                                     \\\n",
      "0                                    ...                                      \n",
      "1                                    ...                                      \n",
      "2                                    ...                                      \n",
      "3                                    ...                                      \n",
      "4                                    ...                                      \n",
      "\n",
      "  Workplace. Topic:Does your workplace promote a work culture free from all forms of unlawful discrimination?  \\\n",
      "0                                                Yes                                                            \n",
      "1                                                Yes                                                            \n",
      "2                                                Yes                                                            \n",
      "3                                                Yes                                                            \n",
      "4                                                Yes                                                            \n",
      "\n",
      "  Workplace. Topic:Does your workplace promote and practice the principles of employment equity?  \\\n",
      "0                                                Yes                                               \n",
      "1                                                Yes                                               \n",
      "2                                                Yes                                               \n",
      "3                                                Yes                                               \n",
      "4                                                Yes                                               \n",
      "\n",
      "  Workplace. Topic:Does your workplace value the diversity of its employees?  \\\n",
      "0                                                Yes                           \n",
      "1                                                Yes                           \n",
      "2                                                Yes                           \n",
      "3                                                Yes                           \n",
      "4                                                Yes                           \n",
      "\n",
      "  Workplace. Topic:Would you recommend the Institute as an employer to others?  \\\n",
      "0                                                Yes                             \n",
      "1                                                Yes                             \n",
      "2                                                Yes                             \n",
      "3                                                Yes                             \n",
      "4                                                Yes                             \n",
      "\n",
      "  Gender. What is your Gender? CurrentAge. Current Age  \\\n",
      "0                       Female                  26  30   \n",
      "1                          NaN                     NaN   \n",
      "2                          NaN                     NaN   \n",
      "3                          NaN                     NaN   \n",
      "4                         Male                  41  45   \n",
      "\n",
      "  Employment Type. Employment Type Classification. Classification  \\\n",
      "0              Temporary Full-time            Administration (AO)   \n",
      "1                              NaN                            NaN   \n",
      "2                              NaN                            NaN   \n",
      "3                              NaN                            NaN   \n",
      "4              Permanent Full-time        Teacher (including LVT)   \n",
      "\n",
      "  LengthofServiceOverall. Overall Length of Service at Institute (in years)  \\\n",
      "0                                                1-2                          \n",
      "1                                                NaN                          \n",
      "2                                                NaN                          \n",
      "3                                                NaN                          \n",
      "4                                                3-4                          \n",
      "\n",
      "  LengthofServiceCurrent. Length of Service at current workplace (in years)  \n",
      "0                                                1-2                         \n",
      "1                                                NaN                         \n",
      "2                                                NaN                         \n",
      "3                                                NaN                         \n",
      "4                                                3-4                         \n",
      "\n",
      "[5 rows x 72 columns]\n"
     ]
    }
   ],
   "source": [
    "# Information for tafe_survey\n",
    "print(tafe_survey.info())\n",
    "print(tafe_survey.head())\n",
    "# There are 702 rows and 72 columns. Many columns have\n",
    "# null values. \n",
    "# Most of the values are objects.\n",
    "# I will need to clean the titles since they all have different\n",
    "# formats."
   ]
  },
  {
   "cell_type": "code",
   "execution_count": 13,
   "metadata": {
    "collapsed": false
   },
   "outputs": [
    {
     "data": {
      "text/plain": [
       "Record ID                                                                                                                                                          0\n",
       "Institute                                                                                                                                                          0\n",
       "WorkArea                                                                                                                                                           0\n",
       "CESSATION YEAR                                                                                                                                                     7\n",
       "Reason for ceasing employment                                                                                                                                      1\n",
       "Contributing Factors. Career Move - Public Sector                                                                                                                265\n",
       "Contributing Factors. Career Move - Private Sector                                                                                                               265\n",
       "Contributing Factors. Career Move - Self-employment                                                                                                              265\n",
       "Contributing Factors. Ill Health                                                                                                                                 265\n",
       "Contributing Factors. Maternity/Family                                                                                                                           265\n",
       "Contributing Factors. Dissatisfaction                                                                                                                            265\n",
       "Contributing Factors. Job Dissatisfaction                                                                                                                        265\n",
       "Contributing Factors. Interpersonal Conflict                                                                                                                     265\n",
       "Contributing Factors. Study                                                                                                                                      265\n",
       "Contributing Factors. Travel                                                                                                                                     265\n",
       "Contributing Factors. Other                                                                                                                                      265\n",
       "Contributing Factors. NONE                                                                                                                                       265\n",
       "Main Factor. Which of these was the main factor for leaving?                                                                                                     589\n",
       "InstituteViews. Topic:1. I feel the senior leadership had a clear vision and direction                                                                            94\n",
       "InstituteViews. Topic:2. I was given access to skills training to help me do my job better                                                                        89\n",
       "InstituteViews. Topic:3. I was given adequate opportunities for personal development                                                                              92\n",
       "InstituteViews. Topic:4. I was given adequate opportunities for promotion within %Institute]Q25LBL%                                                               94\n",
       "InstituteViews. Topic:5. I felt the salary for the job was right for the responsibilities I had                                                                   87\n",
       "InstituteViews. Topic:6. The organisation recognised when staff did good work                                                                                     95\n",
       "InstituteViews. Topic:7. Management was generally supportive of me                                                                                                88\n",
       "InstituteViews. Topic:8. Management was generally supportive of my team                                                                                           94\n",
       "InstituteViews. Topic:9. I was kept informed of the changes in the organisation which would affect me                                                             92\n",
       "InstituteViews. Topic:10. Staff morale was positive within the Institute                                                                                         100\n",
       "InstituteViews. Topic:11. If I had a workplace issue it was dealt with quickly                                                                                   101\n",
       "InstituteViews. Topic:12. If I had a workplace issue it was dealt with efficiently                                                                               105\n",
       "                                                                                                                                                                ... \n",
       "WorkUnitViews. Topic:25. My job allowed me to balance the demands of work and family to my satisfaction                                                           91\n",
       "WorkUnitViews. Topic:26. My supervisor gave me adequate personal recognition and feedback on my performance                                                       96\n",
       "WorkUnitViews. Topic:27. My working environment was satisfactory e.g. sufficient space, good lighting, suitable seating and working area                          92\n",
       "WorkUnitViews. Topic:28. I was given the opportunity to mentor and coach others in order for me to pass on my skills and knowledge prior to my cessation date     93\n",
       "WorkUnitViews. Topic:29. There was adequate communication between staff in my unit                                                                                99\n",
       "WorkUnitViews. Topic:30. Staff morale was positive within my work unit                                                                                            96\n",
       "Induction. Did you undertake Workplace Induction?                                                                                                                 83\n",
       "InductionInfo. Topic:Did you undertake a Corporate Induction?                                                                                                    270\n",
       "InductionInfo. Topic:Did you undertake a Institute Induction?                                                                                                    219\n",
       "InductionInfo. Topic: Did you undertake Team Induction?                                                                                                          262\n",
       "InductionInfo. Face to Face Topic:Did you undertake a Corporate Induction; Category:How it was conducted?                                                        147\n",
       "InductionInfo. On-line Topic:Did you undertake a Corporate Induction; Category:How it was conducted?                                                             147\n",
       "InductionInfo. Induction Manual Topic:Did you undertake a Corporate Induction?                                                                                   147\n",
       "InductionInfo. Face to Face Topic:Did you undertake a Institute Induction?                                                                                       172\n",
       "InductionInfo. On-line Topic:Did you undertake a Institute Induction?                                                                                            147\n",
       "InductionInfo. Induction Manual Topic:Did you undertake a Institute Induction?                                                                                   149\n",
       "InductionInfo. Face to Face Topic: Did you undertake Team Induction; Category?                                                                                   147\n",
       "InductionInfo. On-line Topic: Did you undertake Team Induction?process you undertook and how it was conducted.]                                                  147\n",
       "InductionInfo. Induction Manual Topic: Did you undertake Team Induction?                                                                                         147\n",
       "Workplace. Topic:Did you and your Manager develop a Performance and Professional Development Plan (PPDP)?                                                         94\n",
       "Workplace. Topic:Does your workplace promote a work culture free from all forms of unlawful discrimination?                                                      108\n",
       "Workplace. Topic:Does your workplace promote and practice the principles of employment equity?                                                                   115\n",
       "Workplace. Topic:Does your workplace value the diversity of its employees?                                                                                       116\n",
       "Workplace. Topic:Would you recommend the Institute as an employer to others?                                                                                     121\n",
       "Gender. What is your Gender?                                                                                                                                     106\n",
       "CurrentAge. Current Age                                                                                                                                          106\n",
       "Employment Type. Employment Type                                                                                                                                 106\n",
       "Classification. Classification                                                                                                                                   106\n",
       "LengthofServiceOverall. Overall Length of Service at Institute (in years)                                                                                        106\n",
       "LengthofServiceCurrent. Length of Service at current workplace (in years)                                                                                        106\n",
       "Length: 72, dtype: int64"
      ]
     },
     "execution_count": 13,
     "metadata": {},
     "output_type": "execute_result"
    }
   ],
   "source": [
    "# In order to see the number of null values in each column, \n",
    "# I will use isnull() and sum() to create a null table.\n",
    "tafe_survey.isnull().sum() "
   ]
  },
  {
   "cell_type": "markdown",
   "metadata": {},
   "source": [
    "There are many different columns, many that would have yes or no answers. I will look at one to see if that may explain some of the null values. "
   ]
  },
  {
   "cell_type": "code",
   "execution_count": 14,
   "metadata": {
    "collapsed": false
   },
   "outputs": [
    {
     "data": {
      "text/plain": [
       "-                                         371\n",
       "NaN                                       265\n",
       "Contributing Factors. Dissatisfaction      66\n",
       "Name: Contributing Factors. Dissatisfaction, dtype: int64"
      ]
     },
     "execution_count": 14,
     "metadata": {},
     "output_type": "execute_result"
    }
   ],
   "source": [
    "tafe_survey[\"Contributing Factors. Dissatisfaction\"].value_counts(dropna=False)"
   ]
  },
  {
   "cell_type": "markdown",
   "metadata": {},
   "source": [
    "For the \"Contributing Factors...\" questions, there are 265 null values for each. This may be due to putting together dataframes or a change in how the test was handled. \n",
    "\n",
    "I can see that the null values for many are used instead of a \"No\" answer."
   ]
  },
  {
   "cell_type": "markdown",
   "metadata": {},
   "source": [
    "I will now look in the dete_survey to inspect some columns important to the stakeholders: \"Reason for ceasing employment\" and \"Current Age\"."
   ]
  },
  {
   "cell_type": "code",
   "execution_count": 15,
   "metadata": {
    "collapsed": false
   },
   "outputs": [
    {
     "data": {
      "text/plain": [
       "Resignation                 340\n",
       "Contract Expired            127\n",
       "Retrenchment/ Redundancy    104\n",
       "Retirement                   82\n",
       "Transfer                     25\n",
       "Termination                  23\n",
       "NaN                           1\n",
       "Name: Reason for ceasing employment, dtype: int64"
      ]
     },
     "execution_count": 15,
     "metadata": {},
     "output_type": "execute_result"
    }
   ],
   "source": [
    "tafe_survey[\"Reason for ceasing employment\"].value_counts(dropna=False)\n",
    "# There are six possible reasons for leaving the company in\n",
    "# this dataframe."
   ]
  },
  {
   "cell_type": "code",
   "execution_count": 16,
   "metadata": {
    "collapsed": false
   },
   "outputs": [
    {
     "data": {
      "text/plain": [
       "56 or older      162\n",
       "NaN              106\n",
       "51-55             82\n",
       "41  45            80\n",
       "46  50            59\n",
       "31  35            52\n",
       "36  40            51\n",
       "26  30            50\n",
       "21  25            44\n",
       "20 or younger     16\n",
       "Name: CurrentAge. Current Age, dtype: int64"
      ]
     },
     "execution_count": 16,
     "metadata": {},
     "output_type": "execute_result"
    }
   ],
   "source": [
    "tafe_survey[\"CurrentAge. Current Age\"].value_counts(dropna=False)\n",
    "# The age is shown in ranges. The name is very unwieldy and\n",
    "# will need to be changed."
   ]
  },
  {
   "cell_type": "code",
   "execution_count": 17,
   "metadata": {
    "collapsed": false
   },
   "outputs": [
    {
     "data": {
      "text/plain": [
       "Reason for ceasing employment  CurrentAge. Current Age\n",
       "Contract Expired               20 or younger               4\n",
       "                               21  25                      8\n",
       "                               26  30                     13\n",
       "                               31  35                     11\n",
       "                               36  40                     15\n",
       "                               41  45                     19\n",
       "                               46  50                     13\n",
       "                               51-55                       9\n",
       "                               56 or older                15\n",
       "Resignation                    20 or younger               9\n",
       "                               21  25                     33\n",
       "                               26  30                     32\n",
       "                               31  35                     32\n",
       "                               36  40                     32\n",
       "                               41  45                     45\n",
       "                               46  50                     39\n",
       "                               51-55                      39\n",
       "                               56 or older                29\n",
       "Retirement                     46  50                      1\n",
       "                               51-55                       4\n",
       "                               56 or older                65\n",
       "Retrenchment/ Redundancy       20 or younger               1\n",
       "                               21  25                      1\n",
       "                               31  35                      4\n",
       "                               41  45                     10\n",
       "                               46  50                      2\n",
       "                               51-55                      22\n",
       "                               56 or older                48\n",
       "Termination                    20 or younger               2\n",
       "                               21  25                      1\n",
       "                               26  30                      2\n",
       "                               31  35                      2\n",
       "                               36  40                      1\n",
       "                               41  45                      5\n",
       "                               46  50                      2\n",
       "                               51-55                       2\n",
       "                               56 or older                 4\n",
       "Transfer                       21  25                      1\n",
       "                               26  30                      3\n",
       "                               31  35                      3\n",
       "                               36  40                      3\n",
       "                               41  45                      1\n",
       "                               46  50                      2\n",
       "                               51-55                       6\n",
       "                               56 or older                 1\n",
       "dtype: int64"
      ]
     },
     "execution_count": 17,
     "metadata": {},
     "output_type": "execute_result"
    }
   ],
   "source": [
    "tafe_survey.groupby([\"Reason for ceasing employment\",\n",
    "                     \"CurrentAge. Current Age\"]).size()\n",
    "# This allows me to get an idea of how to answer the\n",
    "# stockholders' questions. I can see the age groups for each\n",
    "# leaving reason. This will need to be cleaned up."
   ]
  },
  {
   "cell_type": "markdown",
   "metadata": {},
   "source": [
    "### Summary of Initial Exploration ###"
   ]
  },
  {
   "cell_type": "markdown",
   "metadata": {},
   "source": [
    "In my exploration of the dataframes, I can see that I will need to rename the important columns to ensure consistency of format and ease of use. There are also many columns I do not need for my analysis and can remove them or create a new dataframe without them. \n",
    "\n",
    "I will also consider changing the age to be numerical to allow for easier manipulation. I will need to subtract the start date from the end date to see the length of time working in the company for the dete_survey, and I will need to convert the time to a numerical format. \n",
    "\n",
    "I will also want to combine the dataframes; I will need to find similar columns and make sure that they combine correctly. Both dataframes have many of the same columns, but the names are different. \n",
    "\n",
    "Finally, I noticed that there are many columns which contain information about employee satisfaction. This could help determine why people stay or leave. \n",
    "\n",
    "My goal is to show the results of the initial questions using organized tables and visualizations. \n",
    "\n",
    "I will now move on towards the data cleaning part of my project. "
   ]
  },
  {
   "cell_type": "markdown",
   "metadata": {
    "collapsed": true
   },
   "source": [
    "## Data Cleaning ##"
   ]
  },
  {
   "cell_type": "code",
   "execution_count": 18,
   "metadata": {
    "collapsed": true
   },
   "outputs": [],
   "source": [
    "# I am reading the dete_survey.csv in again to change the \"Not Stated\" values\n",
    "# in as NaN.\n",
    "dete_survey = pd.read_csv(\"dete_survey.csv\", na_values=\"Not Stated\")"
   ]
  },
  {
   "cell_type": "markdown",
   "metadata": {},
   "source": [
    "### Dropping Unneeded Columns"
   ]
  },
  {
   "cell_type": "markdown",
   "metadata": {},
   "source": [
    "I do not need many of the dataframe columns for my analysis.\n",
    "\n",
    "In the dete_survey dataframe, I will not use columns 28 to 48 in my analysis. \n",
    "I will not use columns 17 to 65 in the tafe_survey.\n",
    "\n",
    "This will remove all of the extraneous information that makes the dataframes messier to work with."
   ]
  },
  {
   "cell_type": "code",
   "execution_count": 19,
   "metadata": {
    "collapsed": false
   },
   "outputs": [],
   "source": [
    "dete_survey_updated = dete_survey.drop(dete_survey.columns[28:49], axis=1)\n",
    "tafe_survey_updated = tafe_survey.drop(tafe_survey.columns[17:66], axis=1)\n",
    "# axis=1 to look at columns instead of rows"
   ]
  },
  {
   "cell_type": "markdown",
   "metadata": {},
   "source": [
    "### Renaming Columns"
   ]
  },
  {
   "cell_type": "markdown",
   "metadata": {},
   "source": [
    "As shown in the exploration phase, many of the columns have complicated names that I need to simplify and match. For example, the reason why employment ended is stored in dete_survey[\"Separation Type\"] and tafe_survey[\"Reason for ceasing employment\"]. \n",
    "\n",
    "I will use the Dataframe.columns attribute and vectorized string methods to update all of the columns in a dataframe at once in the dete_survey dataframe. Then I will update names individually to match in the tafe_survey dataframe."
   ]
  },
  {
   "cell_type": "markdown",
   "metadata": {},
   "source": [
    "#### Renaming dete_survey_updated Columns"
   ]
  },
  {
   "cell_type": "code",
   "execution_count": 20,
   "metadata": {
    "collapsed": false
   },
   "outputs": [
    {
     "data": {
      "text/plain": [
       "Index(['id', 'separationtype', 'cease_date', 'dete_start_date',\n",
       "       'role_start_date', 'position', 'classification', 'region',\n",
       "       'business_unit', 'employment_status', 'career_move_to_public_sector',\n",
       "       'career_move_to_private_sector', 'interpersonal_conflicts',\n",
       "       'job_dissatisfaction', 'dissatisfaction_with_the_department',\n",
       "       'physical_work_environment', 'lack_of_recognition',\n",
       "       'lack_of_job_security', 'work_location', 'employment_conditions',\n",
       "       'maternity/family', 'relocation', 'study/travel', 'ill_health',\n",
       "       'traumatic_incident', 'work_life_balance', 'workload',\n",
       "       'none_of_the_above', 'gender', 'age', 'aboriginal', 'torres_strait',\n",
       "       'south_sea', 'disability', 'nesb'],\n",
       "      dtype='object')"
      ]
     },
     "execution_count": 20,
     "metadata": {},
     "output_type": "execute_result"
    }
   ],
   "source": [
    "# Make all the capitalization lowercase.\n",
    "# Remove any trailing whitespace from the end of the strings.\n",
    "# Replace spaces with underscores ('_').\n",
    "dete_survey_updated.columns = dete_survey_updated.columns.str.strip().str.lower().str.replace(\" \", \"_\")\n",
    "dete_survey_updated.columns"
   ]
  },
  {
   "cell_type": "markdown",
   "metadata": {},
   "source": [
    "#### Renaming tafe_survey_updated Columns"
   ]
  },
  {
   "cell_type": "markdown",
   "metadata": {},
   "source": [
    "The tafe_survey_updated column names will be made to match the dete_survey_updated names. I will start by looking at the current column names."
   ]
  },
  {
   "cell_type": "code",
   "execution_count": 21,
   "metadata": {
    "collapsed": false
   },
   "outputs": [
    {
     "data": {
      "text/plain": [
       "Index(['Record ID', 'Institute', 'WorkArea', 'CESSATION YEAR',\n",
       "       'Reason for ceasing employment',\n",
       "       'Contributing Factors. Career Move - Public Sector ',\n",
       "       'Contributing Factors. Career Move - Private Sector ',\n",
       "       'Contributing Factors. Career Move - Self-employment',\n",
       "       'Contributing Factors. Ill Health',\n",
       "       'Contributing Factors. Maternity/Family',\n",
       "       'Contributing Factors. Dissatisfaction',\n",
       "       'Contributing Factors. Job Dissatisfaction',\n",
       "       'Contributing Factors. Interpersonal Conflict',\n",
       "       'Contributing Factors. Study', 'Contributing Factors. Travel',\n",
       "       'Contributing Factors. Other', 'Contributing Factors. NONE',\n",
       "       'Gender. What is your Gender?', 'CurrentAge. Current Age',\n",
       "       'Employment Type. Employment Type', 'Classification. Classification',\n",
       "       'LengthofServiceOverall. Overall Length of Service at Institute (in years)',\n",
       "       'LengthofServiceCurrent. Length of Service at current workplace (in years)'],\n",
       "      dtype='object')"
      ]
     },
     "execution_count": 21,
     "metadata": {},
     "output_type": "execute_result"
    }
   ],
   "source": [
    "tafe_survey_updated.columns"
   ]
  },
  {
   "cell_type": "code",
   "execution_count": 22,
   "metadata": {
    "collapsed": false
   },
   "outputs": [
    {
     "data": {
      "text/plain": [
       "Index(['id', 'Institute', 'WorkArea', 'cease_date', 'separationtype',\n",
       "       'Contributing Factors. Career Move - Public Sector ',\n",
       "       'Contributing Factors. Career Move - Private Sector ',\n",
       "       'Contributing Factors. Career Move - Self-employment',\n",
       "       'Contributing Factors. Ill Health',\n",
       "       'Contributing Factors. Maternity/Family',\n",
       "       'Contributing Factors. Dissatisfaction',\n",
       "       'Contributing Factors. Job Dissatisfaction',\n",
       "       'Contributing Factors. Interpersonal Conflict',\n",
       "       'Contributing Factors. Study', 'Contributing Factors. Travel',\n",
       "       'Contributing Factors. Other', 'Contributing Factors. NONE', 'gender',\n",
       "       'age', 'employment_status', 'position', 'institute_service',\n",
       "       'role_service'],\n",
       "      dtype='object')"
      ]
     },
     "execution_count": 22,
     "metadata": {},
     "output_type": "execute_result"
    }
   ],
   "source": [
    "renaming = {\"Record ID\":\"id\", \"CESSATION YEAR\":\"cease_date\",\n",
    "            \"Reason for ceasing employment\":\"separationtype\", \n",
    "            \"Gender. What is your Gender?\":\"gender\", \n",
    "            \"CurrentAge. Current Age\":\"age\", \n",
    "            \"Employment Type. Employment Type\":\"employment_status\",\n",
    "           \"Classification. Classification\":\"position\",\n",
    "           \"LengthofServiceOverall. Overall Length of Service at Institute (in years)\":\n",
    "           \"institute_service\",\n",
    "            \"LengthofServiceCurrent. Length of Service at current workplace (in years)\":\n",
    "           \"role_service\"}\n",
    "# renaming is a dictionary I can feed into rename() to make the code below look\n",
    "# cleaner\n",
    "\n",
    "tafe_survey_updated = tafe_survey_updated.rename(columns=renaming)\n",
    "tafe_survey_updated.columns"
   ]
  },
  {
   "cell_type": "markdown",
   "metadata": {},
   "source": [
    "#### Evaluating Renaming of Columns"
   ]
  },
  {
   "cell_type": "code",
   "execution_count": 23,
   "metadata": {
    "collapsed": false
   },
   "outputs": [
    {
     "name": "stdout",
     "output_type": "stream",
     "text": [
      "dete_survey_updated sample: \n",
      " \n",
      "    id                    separationtype cease_date  dete_start_date  \\\n",
      "0   1             Ill Health Retirement    08/2012           1984.0   \n",
      "1   2  Voluntary Early Retirement (VER)    08/2012              NaN   \n",
      "2   3  Voluntary Early Retirement (VER)    05/2012           2011.0   \n",
      "3   4         Resignation-Other reasons    05/2012           2005.0   \n",
      "4   5                    Age Retirement    05/2012           1970.0   \n",
      "\n",
      "   role_start_date                                      position  \\\n",
      "0           2004.0                                Public Servant   \n",
      "1              NaN                                Public Servant   \n",
      "2           2011.0                               Schools Officer   \n",
      "3           2006.0                                       Teacher   \n",
      "4           1989.0  Head of Curriculum/Head of Special Education   \n",
      "\n",
      "  classification              region                      business_unit  \\\n",
      "0        A01-A04      Central Office  Corporate Strategy and Peformance   \n",
      "1        AO5-AO7      Central Office  Corporate Strategy and Peformance   \n",
      "2            NaN      Central Office               Education Queensland   \n",
      "3        Primary  Central Queensland                                NaN   \n",
      "4            NaN          South East                                NaN   \n",
      "\n",
      "     employment_status  ...   work_life_balance  workload  none_of_the_above  \\\n",
      "0  Permanent Full-time  ...               False     False               True   \n",
      "1  Permanent Full-time  ...               False     False              False   \n",
      "2  Permanent Full-time  ...               False     False               True   \n",
      "3  Permanent Full-time  ...               False     False              False   \n",
      "4  Permanent Full-time  ...                True     False              False   \n",
      "\n",
      "   gender          age  aboriginal  torres_strait  south_sea  disability  nesb  \n",
      "0    Male        56-60         NaN            NaN        NaN         NaN   Yes  \n",
      "1    Male        56-60         NaN            NaN        NaN         NaN   NaN  \n",
      "2    Male  61 or older         NaN            NaN        NaN         NaN   NaN  \n",
      "3  Female        36-40         NaN            NaN        NaN         NaN   NaN  \n",
      "4  Female  61 or older         NaN            NaN        NaN         NaN   NaN  \n",
      "\n",
      "[5 rows x 35 columns]\n"
     ]
    }
   ],
   "source": [
    "print(\"dete_survey_updated sample:\", \"\\n\", \"\\n\", dete_survey_updated.head())"
   ]
  },
  {
   "cell_type": "code",
   "execution_count": 24,
   "metadata": {
    "collapsed": false
   },
   "outputs": [
    {
     "name": "stdout",
     "output_type": "stream",
     "text": [
      "tafe_survey_updated sample: \n",
      " \n",
      "              id                              Institute  \\\n",
      "0  6.341330e+17  Southern Queensland Institute of TAFE   \n",
      "1  6.341337e+17            Mount Isa Institute of TAFE   \n",
      "2  6.341388e+17            Mount Isa Institute of TAFE   \n",
      "3  6.341399e+17            Mount Isa Institute of TAFE   \n",
      "4  6.341466e+17  Southern Queensland Institute of TAFE   \n",
      "\n",
      "                   WorkArea  cease_date    separationtype  \\\n",
      "0  Non-Delivery (corporate)      2010.0  Contract Expired   \n",
      "1  Non-Delivery (corporate)      2010.0        Retirement   \n",
      "2       Delivery (teaching)      2010.0        Retirement   \n",
      "3  Non-Delivery (corporate)      2010.0       Resignation   \n",
      "4       Delivery (teaching)      2010.0       Resignation   \n",
      "\n",
      "  Contributing Factors. Career Move - Public Sector   \\\n",
      "0                                                NaN   \n",
      "1                                                  -   \n",
      "2                                                  -   \n",
      "3                                                  -   \n",
      "4                                                  -   \n",
      "\n",
      "  Contributing Factors. Career Move - Private Sector   \\\n",
      "0                                                NaN    \n",
      "1                                                  -    \n",
      "2                                                  -    \n",
      "3                                                  -    \n",
      "4                       Career Move - Private Sector    \n",
      "\n",
      "  Contributing Factors. Career Move - Self-employment  \\\n",
      "0                                                NaN    \n",
      "1                                                  -    \n",
      "2                                                  -    \n",
      "3                                                  -    \n",
      "4                                                  -    \n",
      "\n",
      "  Contributing Factors. Ill Health Contributing Factors. Maternity/Family  \\\n",
      "0                              NaN                                    NaN   \n",
      "1                                -                                      -   \n",
      "2                                -                                      -   \n",
      "3                                -                                      -   \n",
      "4                                -                                      -   \n",
      "\n",
      "      ...      Contributing Factors. Study Contributing Factors. Travel  \\\n",
      "0     ...                              NaN                          NaN   \n",
      "1     ...                                -                       Travel   \n",
      "2     ...                                -                            -   \n",
      "3     ...                                -                       Travel   \n",
      "4     ...                                -                            -   \n",
      "\n",
      "  Contributing Factors. Other Contributing Factors. NONE  gender     age  \\\n",
      "0                         NaN                        NaN  Female  26  30   \n",
      "1                           -                          -     NaN     NaN   \n",
      "2                           -                       NONE     NaN     NaN   \n",
      "3                           -                          -     NaN     NaN   \n",
      "4                           -                          -    Male  41  45   \n",
      "\n",
      "     employment_status                 position institute_service role_service  \n",
      "0  Temporary Full-time      Administration (AO)               1-2          1-2  \n",
      "1                  NaN                      NaN               NaN          NaN  \n",
      "2                  NaN                      NaN               NaN          NaN  \n",
      "3                  NaN                      NaN               NaN          NaN  \n",
      "4  Permanent Full-time  Teacher (including LVT)               3-4          3-4  \n",
      "\n",
      "[5 rows x 23 columns]\n"
     ]
    }
   ],
   "source": [
    "print(\"tafe_survey_updated sample:\", \"\\n\", \"\\n\", tafe_survey_updated.head())"
   ]
  },
  {
   "cell_type": "markdown",
   "metadata": {},
   "source": [
    "I have now renamed and matched many of the columns in the dataframes. In order to see my results, I printed the first five rows of each dataframe. It appears as if my changes were successful. \n",
    "\n",
    "Looking at the simplified data, I can now see that the dates in the dataframes are held in different formats. This is something that I will address when combining the two dataframes."
   ]
  },
  {
   "cell_type": "markdown",
   "metadata": {},
   "source": [
    "### Removing Additional Columns"
   ]
  },
  {
   "cell_type": "markdown",
   "metadata": {},
   "source": [
    "I will now remove more of the unneeded data. I only want to have data that can be used to answer the following questions:\n",
    "- Are employees who only worked for the institutes for a short period of time resigning due to some kind of dissatisfaction? What about employees who have been there longer?\n",
    "- Are younger employees resigning due to some kind of dissatisfaction? What about older employees?\n",
    "\n",
    "These questions need information about age, separation type, time of employment, and satisfaction. All other columns are currently extraneous. \n",
    "\n",
    "The only separation type we really want to evaluate is resignation. As seen in the first part of this document, there are many values in separationtype.\n",
    "\n",
    "In the dete_survey, resignation is covered by the following values:\n",
    "-\"Resignation-Other reasons\"\n",
    "-\"Resignation-Other employer\"\n",
    "-\"Resignation-Move overseas/interstate\"\n",
    "\n",
    "The tafe_survey_updated includes only one resignation-related column, titled \"Resignation\"."
   ]
  },
  {
   "cell_type": "markdown",
   "metadata": {},
   "source": [
    "I can see that if someone resigned, the string \"Resignation\" is in the value. I will use that information to help me filter the dete_survey."
   ]
  },
  {
   "cell_type": "code",
   "execution_count": 25,
   "metadata": {
    "collapsed": false
   },
   "outputs": [
    {
     "data": {
      "text/html": [
       "<div>\n",
       "<style scoped>\n",
       "    .dataframe tbody tr th:only-of-type {\n",
       "        vertical-align: middle;\n",
       "    }\n",
       "\n",
       "    .dataframe tbody tr th {\n",
       "        vertical-align: top;\n",
       "    }\n",
       "\n",
       "    .dataframe thead th {\n",
       "        text-align: right;\n",
       "    }\n",
       "</style>\n",
       "<table border=\"1\" class=\"dataframe\">\n",
       "  <thead>\n",
       "    <tr style=\"text-align: right;\">\n",
       "      <th></th>\n",
       "      <th>id</th>\n",
       "      <th>separationtype</th>\n",
       "      <th>cease_date</th>\n",
       "      <th>dete_start_date</th>\n",
       "      <th>role_start_date</th>\n",
       "      <th>position</th>\n",
       "      <th>classification</th>\n",
       "      <th>region</th>\n",
       "      <th>business_unit</th>\n",
       "      <th>employment_status</th>\n",
       "      <th>...</th>\n",
       "      <th>work_life_balance</th>\n",
       "      <th>workload</th>\n",
       "      <th>none_of_the_above</th>\n",
       "      <th>gender</th>\n",
       "      <th>age</th>\n",
       "      <th>aboriginal</th>\n",
       "      <th>torres_strait</th>\n",
       "      <th>south_sea</th>\n",
       "      <th>disability</th>\n",
       "      <th>nesb</th>\n",
       "    </tr>\n",
       "  </thead>\n",
       "  <tbody>\n",
       "    <tr>\n",
       "      <th>3</th>\n",
       "      <td>4</td>\n",
       "      <td>Resignation-Other reasons</td>\n",
       "      <td>05/2012</td>\n",
       "      <td>2005.0</td>\n",
       "      <td>2006.0</td>\n",
       "      <td>Teacher</td>\n",
       "      <td>Primary</td>\n",
       "      <td>Central Queensland</td>\n",
       "      <td>NaN</td>\n",
       "      <td>Permanent Full-time</td>\n",
       "      <td>...</td>\n",
       "      <td>False</td>\n",
       "      <td>False</td>\n",
       "      <td>False</td>\n",
       "      <td>Female</td>\n",
       "      <td>36-40</td>\n",
       "      <td>NaN</td>\n",
       "      <td>NaN</td>\n",
       "      <td>NaN</td>\n",
       "      <td>NaN</td>\n",
       "      <td>NaN</td>\n",
       "    </tr>\n",
       "    <tr>\n",
       "      <th>5</th>\n",
       "      <td>6</td>\n",
       "      <td>Resignation-Other reasons</td>\n",
       "      <td>05/2012</td>\n",
       "      <td>1994.0</td>\n",
       "      <td>1997.0</td>\n",
       "      <td>Guidance Officer</td>\n",
       "      <td>NaN</td>\n",
       "      <td>Central Office</td>\n",
       "      <td>Education Queensland</td>\n",
       "      <td>Permanent Full-time</td>\n",
       "      <td>...</td>\n",
       "      <td>False</td>\n",
       "      <td>False</td>\n",
       "      <td>False</td>\n",
       "      <td>Female</td>\n",
       "      <td>41-45</td>\n",
       "      <td>NaN</td>\n",
       "      <td>NaN</td>\n",
       "      <td>NaN</td>\n",
       "      <td>NaN</td>\n",
       "      <td>NaN</td>\n",
       "    </tr>\n",
       "    <tr>\n",
       "      <th>8</th>\n",
       "      <td>9</td>\n",
       "      <td>Resignation-Other reasons</td>\n",
       "      <td>07/2012</td>\n",
       "      <td>2009.0</td>\n",
       "      <td>2009.0</td>\n",
       "      <td>Teacher</td>\n",
       "      <td>Secondary</td>\n",
       "      <td>North Queensland</td>\n",
       "      <td>NaN</td>\n",
       "      <td>Permanent Full-time</td>\n",
       "      <td>...</td>\n",
       "      <td>False</td>\n",
       "      <td>False</td>\n",
       "      <td>False</td>\n",
       "      <td>Female</td>\n",
       "      <td>31-35</td>\n",
       "      <td>NaN</td>\n",
       "      <td>NaN</td>\n",
       "      <td>NaN</td>\n",
       "      <td>NaN</td>\n",
       "      <td>NaN</td>\n",
       "    </tr>\n",
       "    <tr>\n",
       "      <th>9</th>\n",
       "      <td>10</td>\n",
       "      <td>Resignation-Other employer</td>\n",
       "      <td>2012</td>\n",
       "      <td>1997.0</td>\n",
       "      <td>2008.0</td>\n",
       "      <td>Teacher Aide</td>\n",
       "      <td>NaN</td>\n",
       "      <td>NaN</td>\n",
       "      <td>NaN</td>\n",
       "      <td>Permanent Part-time</td>\n",
       "      <td>...</td>\n",
       "      <td>False</td>\n",
       "      <td>False</td>\n",
       "      <td>False</td>\n",
       "      <td>Female</td>\n",
       "      <td>46-50</td>\n",
       "      <td>NaN</td>\n",
       "      <td>NaN</td>\n",
       "      <td>NaN</td>\n",
       "      <td>NaN</td>\n",
       "      <td>NaN</td>\n",
       "    </tr>\n",
       "    <tr>\n",
       "      <th>11</th>\n",
       "      <td>12</td>\n",
       "      <td>Resignation-Move overseas/interstate</td>\n",
       "      <td>2012</td>\n",
       "      <td>2009.0</td>\n",
       "      <td>2009.0</td>\n",
       "      <td>Teacher</td>\n",
       "      <td>Secondary</td>\n",
       "      <td>Far North Queensland</td>\n",
       "      <td>NaN</td>\n",
       "      <td>Permanent Full-time</td>\n",
       "      <td>...</td>\n",
       "      <td>False</td>\n",
       "      <td>False</td>\n",
       "      <td>False</td>\n",
       "      <td>Male</td>\n",
       "      <td>31-35</td>\n",
       "      <td>NaN</td>\n",
       "      <td>NaN</td>\n",
       "      <td>NaN</td>\n",
       "      <td>NaN</td>\n",
       "      <td>NaN</td>\n",
       "    </tr>\n",
       "  </tbody>\n",
       "</table>\n",
       "<p>5 rows × 35 columns</p>\n",
       "</div>"
      ],
      "text/plain": [
       "    id                        separationtype cease_date  dete_start_date  \\\n",
       "3    4             Resignation-Other reasons    05/2012           2005.0   \n",
       "5    6             Resignation-Other reasons    05/2012           1994.0   \n",
       "8    9             Resignation-Other reasons    07/2012           2009.0   \n",
       "9   10            Resignation-Other employer       2012           1997.0   \n",
       "11  12  Resignation-Move overseas/interstate       2012           2009.0   \n",
       "\n",
       "    role_start_date          position classification                region  \\\n",
       "3            2006.0           Teacher        Primary    Central Queensland   \n",
       "5            1997.0  Guidance Officer            NaN        Central Office   \n",
       "8            2009.0           Teacher      Secondary      North Queensland   \n",
       "9            2008.0      Teacher Aide            NaN                   NaN   \n",
       "11           2009.0           Teacher      Secondary  Far North Queensland   \n",
       "\n",
       "           business_unit    employment_status  ...   work_life_balance  \\\n",
       "3                    NaN  Permanent Full-time  ...               False   \n",
       "5   Education Queensland  Permanent Full-time  ...               False   \n",
       "8                    NaN  Permanent Full-time  ...               False   \n",
       "9                    NaN  Permanent Part-time  ...               False   \n",
       "11                   NaN  Permanent Full-time  ...               False   \n",
       "\n",
       "    workload  none_of_the_above  gender    age  aboriginal  torres_strait  \\\n",
       "3      False              False  Female  36-40         NaN            NaN   \n",
       "5      False              False  Female  41-45         NaN            NaN   \n",
       "8      False              False  Female  31-35         NaN            NaN   \n",
       "9      False              False  Female  46-50         NaN            NaN   \n",
       "11     False              False    Male  31-35         NaN            NaN   \n",
       "\n",
       "    south_sea  disability  nesb  \n",
       "3         NaN         NaN   NaN  \n",
       "5         NaN         NaN   NaN  \n",
       "8         NaN         NaN   NaN  \n",
       "9         NaN         NaN   NaN  \n",
       "11        NaN         NaN   NaN  \n",
       "\n",
       "[5 rows x 35 columns]"
      ]
     },
     "execution_count": 25,
     "metadata": {},
     "output_type": "execute_result"
    }
   ],
   "source": [
    "dete_copy = dete_survey_updated.copy()\n",
    "dete_resignations = dete_copy[dete_copy[\"separationtype\"].str.contains(\"Resignation\")]\n",
    "# searched for the string \"Resignation\" to select only those rows.\n",
    "dete_resignations.head()\n"
   ]
  },
  {
   "cell_type": "markdown",
   "metadata": {},
   "source": [
    "I will select only rows with the choice \"Resignation\" for the tafe_survey_updated. "
   ]
  },
  {
   "cell_type": "code",
   "execution_count": 26,
   "metadata": {
    "collapsed": false
   },
   "outputs": [
    {
     "data": {
      "text/html": [
       "<div>\n",
       "<style scoped>\n",
       "    .dataframe tbody tr th:only-of-type {\n",
       "        vertical-align: middle;\n",
       "    }\n",
       "\n",
       "    .dataframe tbody tr th {\n",
       "        vertical-align: top;\n",
       "    }\n",
       "\n",
       "    .dataframe thead th {\n",
       "        text-align: right;\n",
       "    }\n",
       "</style>\n",
       "<table border=\"1\" class=\"dataframe\">\n",
       "  <thead>\n",
       "    <tr style=\"text-align: right;\">\n",
       "      <th></th>\n",
       "      <th>id</th>\n",
       "      <th>Institute</th>\n",
       "      <th>WorkArea</th>\n",
       "      <th>cease_date</th>\n",
       "      <th>separationtype</th>\n",
       "      <th>Contributing Factors. Career Move - Public Sector</th>\n",
       "      <th>Contributing Factors. Career Move - Private Sector</th>\n",
       "      <th>Contributing Factors. Career Move - Self-employment</th>\n",
       "      <th>Contributing Factors. Ill Health</th>\n",
       "      <th>Contributing Factors. Maternity/Family</th>\n",
       "      <th>...</th>\n",
       "      <th>Contributing Factors. Study</th>\n",
       "      <th>Contributing Factors. Travel</th>\n",
       "      <th>Contributing Factors. Other</th>\n",
       "      <th>Contributing Factors. NONE</th>\n",
       "      <th>gender</th>\n",
       "      <th>age</th>\n",
       "      <th>employment_status</th>\n",
       "      <th>position</th>\n",
       "      <th>institute_service</th>\n",
       "      <th>role_service</th>\n",
       "    </tr>\n",
       "  </thead>\n",
       "  <tbody>\n",
       "    <tr>\n",
       "      <th>3</th>\n",
       "      <td>6.341399e+17</td>\n",
       "      <td>Mount Isa Institute of TAFE</td>\n",
       "      <td>Non-Delivery (corporate)</td>\n",
       "      <td>2010.0</td>\n",
       "      <td>Resignation</td>\n",
       "      <td>-</td>\n",
       "      <td>-</td>\n",
       "      <td>-</td>\n",
       "      <td>-</td>\n",
       "      <td>-</td>\n",
       "      <td>...</td>\n",
       "      <td>-</td>\n",
       "      <td>Travel</td>\n",
       "      <td>-</td>\n",
       "      <td>-</td>\n",
       "      <td>NaN</td>\n",
       "      <td>NaN</td>\n",
       "      <td>NaN</td>\n",
       "      <td>NaN</td>\n",
       "      <td>NaN</td>\n",
       "      <td>NaN</td>\n",
       "    </tr>\n",
       "    <tr>\n",
       "      <th>4</th>\n",
       "      <td>6.341466e+17</td>\n",
       "      <td>Southern Queensland Institute of TAFE</td>\n",
       "      <td>Delivery (teaching)</td>\n",
       "      <td>2010.0</td>\n",
       "      <td>Resignation</td>\n",
       "      <td>-</td>\n",
       "      <td>Career Move - Private Sector</td>\n",
       "      <td>-</td>\n",
       "      <td>-</td>\n",
       "      <td>-</td>\n",
       "      <td>...</td>\n",
       "      <td>-</td>\n",
       "      <td>-</td>\n",
       "      <td>-</td>\n",
       "      <td>-</td>\n",
       "      <td>Male</td>\n",
       "      <td>41  45</td>\n",
       "      <td>Permanent Full-time</td>\n",
       "      <td>Teacher (including LVT)</td>\n",
       "      <td>3-4</td>\n",
       "      <td>3-4</td>\n",
       "    </tr>\n",
       "    <tr>\n",
       "      <th>5</th>\n",
       "      <td>6.341475e+17</td>\n",
       "      <td>Southern Queensland Institute of TAFE</td>\n",
       "      <td>Delivery (teaching)</td>\n",
       "      <td>2010.0</td>\n",
       "      <td>Resignation</td>\n",
       "      <td>-</td>\n",
       "      <td>-</td>\n",
       "      <td>-</td>\n",
       "      <td>-</td>\n",
       "      <td>-</td>\n",
       "      <td>...</td>\n",
       "      <td>-</td>\n",
       "      <td>-</td>\n",
       "      <td>Other</td>\n",
       "      <td>-</td>\n",
       "      <td>Female</td>\n",
       "      <td>56 or older</td>\n",
       "      <td>Contract/casual</td>\n",
       "      <td>Teacher (including LVT)</td>\n",
       "      <td>7-10</td>\n",
       "      <td>7-10</td>\n",
       "    </tr>\n",
       "    <tr>\n",
       "      <th>6</th>\n",
       "      <td>6.341520e+17</td>\n",
       "      <td>Barrier Reef Institute of TAFE</td>\n",
       "      <td>Non-Delivery (corporate)</td>\n",
       "      <td>2010.0</td>\n",
       "      <td>Resignation</td>\n",
       "      <td>-</td>\n",
       "      <td>Career Move - Private Sector</td>\n",
       "      <td>-</td>\n",
       "      <td>-</td>\n",
       "      <td>Maternity/Family</td>\n",
       "      <td>...</td>\n",
       "      <td>-</td>\n",
       "      <td>-</td>\n",
       "      <td>Other</td>\n",
       "      <td>-</td>\n",
       "      <td>Male</td>\n",
       "      <td>20 or younger</td>\n",
       "      <td>Temporary Full-time</td>\n",
       "      <td>Administration (AO)</td>\n",
       "      <td>3-4</td>\n",
       "      <td>3-4</td>\n",
       "    </tr>\n",
       "    <tr>\n",
       "      <th>7</th>\n",
       "      <td>6.341537e+17</td>\n",
       "      <td>Southern Queensland Institute of TAFE</td>\n",
       "      <td>Delivery (teaching)</td>\n",
       "      <td>2010.0</td>\n",
       "      <td>Resignation</td>\n",
       "      <td>-</td>\n",
       "      <td>-</td>\n",
       "      <td>-</td>\n",
       "      <td>-</td>\n",
       "      <td>-</td>\n",
       "      <td>...</td>\n",
       "      <td>-</td>\n",
       "      <td>-</td>\n",
       "      <td>Other</td>\n",
       "      <td>-</td>\n",
       "      <td>Male</td>\n",
       "      <td>46  50</td>\n",
       "      <td>Permanent Full-time</td>\n",
       "      <td>Teacher (including LVT)</td>\n",
       "      <td>3-4</td>\n",
       "      <td>3-4</td>\n",
       "    </tr>\n",
       "  </tbody>\n",
       "</table>\n",
       "<p>5 rows × 23 columns</p>\n",
       "</div>"
      ],
      "text/plain": [
       "             id                              Institute  \\\n",
       "3  6.341399e+17            Mount Isa Institute of TAFE   \n",
       "4  6.341466e+17  Southern Queensland Institute of TAFE   \n",
       "5  6.341475e+17  Southern Queensland Institute of TAFE   \n",
       "6  6.341520e+17         Barrier Reef Institute of TAFE   \n",
       "7  6.341537e+17  Southern Queensland Institute of TAFE   \n",
       "\n",
       "                   WorkArea  cease_date separationtype  \\\n",
       "3  Non-Delivery (corporate)      2010.0    Resignation   \n",
       "4       Delivery (teaching)      2010.0    Resignation   \n",
       "5       Delivery (teaching)      2010.0    Resignation   \n",
       "6  Non-Delivery (corporate)      2010.0    Resignation   \n",
       "7       Delivery (teaching)      2010.0    Resignation   \n",
       "\n",
       "  Contributing Factors. Career Move - Public Sector   \\\n",
       "3                                                  -   \n",
       "4                                                  -   \n",
       "5                                                  -   \n",
       "6                                                  -   \n",
       "7                                                  -   \n",
       "\n",
       "  Contributing Factors. Career Move - Private Sector   \\\n",
       "3                                                  -    \n",
       "4                       Career Move - Private Sector    \n",
       "5                                                  -    \n",
       "6                       Career Move - Private Sector    \n",
       "7                                                  -    \n",
       "\n",
       "  Contributing Factors. Career Move - Self-employment  \\\n",
       "3                                                  -    \n",
       "4                                                  -    \n",
       "5                                                  -    \n",
       "6                                                  -    \n",
       "7                                                  -    \n",
       "\n",
       "  Contributing Factors. Ill Health Contributing Factors. Maternity/Family  \\\n",
       "3                                -                                      -   \n",
       "4                                -                                      -   \n",
       "5                                -                                      -   \n",
       "6                                -                       Maternity/Family   \n",
       "7                                -                                      -   \n",
       "\n",
       "      ...      Contributing Factors. Study Contributing Factors. Travel  \\\n",
       "3     ...                                -                       Travel   \n",
       "4     ...                                -                            -   \n",
       "5     ...                                -                            -   \n",
       "6     ...                                -                            -   \n",
       "7     ...                                -                            -   \n",
       "\n",
       "  Contributing Factors. Other Contributing Factors. NONE  gender  \\\n",
       "3                           -                          -     NaN   \n",
       "4                           -                          -    Male   \n",
       "5                       Other                          -  Female   \n",
       "6                       Other                          -    Male   \n",
       "7                       Other                          -    Male   \n",
       "\n",
       "             age    employment_status                 position  \\\n",
       "3            NaN                  NaN                      NaN   \n",
       "4         41  45  Permanent Full-time  Teacher (including LVT)   \n",
       "5    56 or older      Contract/casual  Teacher (including LVT)   \n",
       "6  20 or younger  Temporary Full-time      Administration (AO)   \n",
       "7         46  50  Permanent Full-time  Teacher (including LVT)   \n",
       "\n",
       "  institute_service role_service  \n",
       "3               NaN          NaN  \n",
       "4               3-4          3-4  \n",
       "5              7-10         7-10  \n",
       "6               3-4          3-4  \n",
       "7               3-4          3-4  \n",
       "\n",
       "[5 rows x 23 columns]"
      ]
     },
     "execution_count": 26,
     "metadata": {},
     "output_type": "execute_result"
    }
   ],
   "source": [
    "tafe_copy = tafe_survey_updated.copy()\n",
    "tafe_resignations = tafe_copy[tafe_copy[\"separationtype\"] == \"Resignation\"]\n",
    "# searched for the string \"Resignation\" to select only those rows.\n",
    "tafe_resignations.head()"
   ]
  },
  {
   "cell_type": "code",
   "execution_count": 27,
   "metadata": {
    "collapsed": false
   },
   "outputs": [
    {
     "name": "stdout",
     "output_type": "stream",
     "text": [
      "The size of dete_resignations is: (311, 35)\n",
      "The size of tafe_resignations is: (340, 23)\n"
     ]
    }
   ],
   "source": [
    "print(\"The size of dete_resignations is:\", dete_resignations.shape)\n",
    "print(\"The size of tafe_resignations is:\", tafe_resignations.shape)"
   ]
  },
  {
   "cell_type": "markdown",
   "metadata": {},
   "source": [
    "Both dataframes have now been filtered to only include rows which speficy resignation as the reason for leaving the company. dete_resignations has 311 rows and 35 columns, and tafe_resignations has 340 rows and 23 columns.\n",
    "\n",
    "This filtering will make working with the data much easier."
   ]
  },
  {
   "cell_type": "markdown",
   "metadata": {},
   "source": [
    "## Looking for Inconsistencies"
   ]
  },
  {
   "cell_type": "markdown",
   "metadata": {},
   "source": [
    "In this step, I will focus on verifying that the years in cease_date and dete_start_date columns make sense. \n",
    "- Neither the cease_date or the dete_start_date should be later than the current date.\n",
    "- The dete_start_date will most likely not be before 1940 as most people in this field started working in their 20s. \n",
    "\n",
    "I will evaluate the data to see the amount of inconsistencies and will clean up the data."
   ]
  },
  {
   "cell_type": "markdown",
   "metadata": {},
   "source": [
    "### dete_resignations[\"cease_date\"]"
   ]
  },
  {
   "cell_type": "code",
   "execution_count": 28,
   "metadata": {
    "collapsed": false
   },
   "outputs": [
    {
     "data": {
      "text/plain": [
       "2012       126\n",
       "2013        74\n",
       "01/2014     22\n",
       "12/2013     17\n",
       "06/2013     14\n",
       "NaN         11\n",
       "09/2013     11\n",
       "07/2013      9\n",
       "11/2013      9\n",
       "10/2013      6\n",
       "08/2013      4\n",
       "05/2012      2\n",
       "05/2013      2\n",
       "07/2006      1\n",
       "09/2010      1\n",
       "07/2012      1\n",
       "2010         1\n",
       "Name: cease_date, dtype: int64"
      ]
     },
     "execution_count": 28,
     "metadata": {},
     "output_type": "execute_result"
    }
   ],
   "source": [
    "dete_resignations[\"cease_date\"].value_counts(dropna=False)"
   ]
  },
  {
   "cell_type": "markdown",
   "metadata": {},
   "source": [
    "I will extract the year from this column and convert it to a float."
   ]
  },
  {
   "cell_type": "code",
   "execution_count": 29,
   "metadata": {
    "collapsed": false
   },
   "outputs": [
    {
     "name": "stderr",
     "output_type": "stream",
     "text": [
      "/dataquest/system/env/python3/lib/python3.4/site-packages/ipykernel/__main__.py:1: SettingWithCopyWarning:\n",
      "\n",
      "\n",
      "A value is trying to be set on a copy of a slice from a DataFrame.\n",
      "Try using .loc[row_indexer,col_indexer] = value instead\n",
      "\n",
      "See the caveats in the documentation: http://pandas.pydata.org/pandas-docs/stable/indexing.html#indexing-view-versus-copy\n",
      "\n"
     ]
    },
    {
     "data": {
      "text/plain": [
       "2013.0    146\n",
       "2012.0    129\n",
       "2014.0     22\n",
       "2010.0      2\n",
       "2006.0      1\n",
       "Name: cease_date, dtype: int64"
      ]
     },
     "execution_count": 29,
     "metadata": {},
     "output_type": "execute_result"
    }
   ],
   "source": [
    "dete_resignations[\"cease_date\"] = dete_resignations[\"cease_date\"].str.split(\"/\").str[-1].astype(float)\n",
    "# I used str.split(\"/\") to create a list per row dividing the date into what \n",
    "# was before and after the \"/\". Some dates did not have a month value, so \n",
    "# there was a mix of lists with one value and two values. Ex: [2012] or \n",
    "# [08, 2012]. str[-1] was used to select the last value, which is always the\n",
    "# year. astype(float) changed the year to a float type.\n",
    "dete_resignations[\"cease_date\"].value_counts()"
   ]
  },
  {
   "cell_type": "markdown",
   "metadata": {},
   "source": [
    "The \"cease_date\" column in dete_resignations was updated to have only the year in float format. Only the years 2013, 2012, 2014, 2010, and 2006 are represented. \n",
    "\n",
    "The boxplot below shows the distribution of the \"cease_date\" column. "
   ]
  },
  {
   "cell_type": "code",
   "execution_count": 30,
   "metadata": {
    "collapsed": false
   },
   "outputs": [
    {
     "data": {
      "image/png": "[encoded data removed]",
      "text/plain": [
       "<matplotlib.figure.Figure at 0x7fc21feb0630>"
      ]
     },
     "metadata": {},
     "output_type": "display_data"
    }
   ],
   "source": [
    "ax = dete_resignations.boxplot(column=[\"cease_date\"])\n",
    "plt.title(\"Exit Year in dete_resignations\")\n",
    "ax.set_ylim(2004,2016)\n",
    "plt.ylabel(\"Year\")\n",
    "plt.show()\n"
   ]
  },
  {
   "cell_type": "code",
   "execution_count": 31,
   "metadata": {
    "collapsed": false
   },
   "outputs": [
    {
     "data": {
      "text/plain": [
       "count     300.00000\n",
       "mean     2012.60000\n",
       "std         0.75403\n",
       "min      2006.00000\n",
       "25%      2012.00000\n",
       "50%      2013.00000\n",
       "75%      2013.00000\n",
       "max      2014.00000\n",
       "Name: cease_date, dtype: float64"
      ]
     },
     "execution_count": 31,
     "metadata": {},
     "output_type": "execute_result"
    }
   ],
   "source": [
    "dete_resignations[\"cease_date\"].describe()"
   ]
  },
  {
   "cell_type": "markdown",
   "metadata": {},
   "source": [
    "The boxplot and the statistics above show how the dates are distributed. The graph shows that dates earlier than 2012 are outliers, and most of the dates lie between 2012 and 2013. \n",
    "\n",
    "Now I will check the values for \"dete_start_date\" in dete_resignations and \"cease_date\" in tafe_resignations."
   ]
  },
  {
   "cell_type": "markdown",
   "metadata": {},
   "source": [
    "### dete_resignations[\"dete_start_date\"]"
   ]
  },
  {
   "cell_type": "code",
   "execution_count": 32,
   "metadata": {
    "collapsed": false
   },
   "outputs": [
    {
     "data": {
      "text/plain": [
       "1963.0     1\n",
       "1971.0     1\n",
       "1972.0     1\n",
       "1973.0     1\n",
       "1974.0     2\n",
       "1975.0     1\n",
       "1976.0     2\n",
       "1977.0     1\n",
       "1980.0     5\n",
       "1982.0     1\n",
       "1983.0     2\n",
       "1984.0     1\n",
       "1985.0     3\n",
       "1986.0     3\n",
       "1987.0     1\n",
       "1988.0     4\n",
       "1989.0     4\n",
       "1990.0     5\n",
       "1991.0     4\n",
       "1992.0     6\n",
       "1993.0     5\n",
       "1994.0     6\n",
       "1995.0     4\n",
       "1996.0     6\n",
       "1997.0     5\n",
       "1998.0     6\n",
       "1999.0     8\n",
       "2000.0     9\n",
       "2001.0     3\n",
       "2002.0     6\n",
       "2003.0     6\n",
       "2004.0    14\n",
       "2005.0    15\n",
       "2006.0    13\n",
       "2007.0    21\n",
       "2008.0    22\n",
       "2009.0    13\n",
       "2010.0    17\n",
       "2011.0    24\n",
       "2012.0    21\n",
       "2013.0    10\n",
       "Name: dete_start_date, dtype: int64"
      ]
     },
     "execution_count": 32,
     "metadata": {},
     "output_type": "execute_result"
    }
   ],
   "source": [
    "dete_resignations[\"dete_start_date\"].value_counts().sort_index()"
   ]
  },
  {
   "cell_type": "markdown",
   "metadata": {
    "collapsed": true
   },
   "source": [
    "The dete_start_date values range from 1963 to 2013. This is possible, but I will want to explore the earlier ranges further. If someone was hired in in the 60s, the would most likely be around 70 years old. Below, I show a boxplot to explore this data further."
   ]
  },
  {
   "cell_type": "code",
   "execution_count": 33,
   "metadata": {
    "collapsed": false
   },
   "outputs": [
    {
     "data": {
      "image/png": "[encoded data removed]",
      "text/plain": [
       "<matplotlib.figure.Figure at 0x7fc21fbe24a8>"
      ]
     },
     "metadata": {},
     "output_type": "display_data"
    }
   ],
   "source": [
    "ax = dete_resignations.boxplot(column=[\"dete_start_date\"])\n",
    "plt.title(\"Start Year in dete_resignations\")\n",
    "ax.set_ylim(1960,2016)\n",
    "plt.ylabel(\"Year\")\n",
    "plt.show()"
   ]
  },
  {
   "cell_type": "code",
   "execution_count": 34,
   "metadata": {
    "collapsed": false
   },
   "outputs": [
    {
     "data": {
      "text/plain": [
       "count     283.000000\n",
       "mean     2002.067138\n",
       "std         9.914479\n",
       "min      1963.000000\n",
       "25%      1997.000000\n",
       "50%      2005.000000\n",
       "75%      2010.000000\n",
       "max      2013.000000\n",
       "Name: dete_start_date, dtype: float64"
      ]
     },
     "execution_count": 34,
     "metadata": {},
     "output_type": "execute_result"
    }
   ],
   "source": [
    "dete_resignations[\"dete_start_date\"].describe()"
   ]
  },
  {
   "cell_type": "markdown",
   "metadata": {},
   "source": [
    "The boxplot and the statistics above show how the dates are distributed. The graph shows that dates earlier than 1980 are outliers, and most of the dates lie between 1997 and 2010. "
   ]
  },
  {
   "cell_type": "markdown",
   "metadata": {},
   "source": [
    "### tafe_resignations[\"cease_date\"]"
   ]
  },
  {
   "cell_type": "code",
   "execution_count": 35,
   "metadata": {
    "collapsed": false
   },
   "outputs": [
    {
     "data": {
      "text/plain": [
       "2009.0      2\n",
       "2010.0     68\n",
       "2011.0    116\n",
       "2012.0     94\n",
       "2013.0     55\n",
       "Name: cease_date, dtype: int64"
      ]
     },
     "execution_count": 35,
     "metadata": {},
     "output_type": "execute_result"
    }
   ],
   "source": [
    "tafe_resignations[\"cease_date\"].value_counts().sort_index()"
   ]
  },
  {
   "cell_type": "code",
   "execution_count": 36,
   "metadata": {
    "collapsed": false
   },
   "outputs": [
    {
     "data": {
      "image/png": "[encoded data removed]",
      "text/plain": [
       "<matplotlib.figure.Figure at 0x7fc22008ca90>"
      ]
     },
     "metadata": {},
     "output_type": "display_data"
    }
   ],
   "source": [
    "ax = tafe_resignations.boxplot(column=[\"cease_date\"])\n",
    "plt.title(\"End Year in tafe_resignations\")\n",
    "ax.set_ylim(2008,2015)\n",
    "plt.ylabel(\"Year\")\n",
    "plt.show()"
   ]
  },
  {
   "cell_type": "code",
   "execution_count": 37,
   "metadata": {
    "collapsed": false
   },
   "outputs": [
    {
     "data": {
      "text/plain": [
       "count     335.000000\n",
       "mean     2011.394030\n",
       "std         1.005952\n",
       "min      2009.000000\n",
       "25%      2011.000000\n",
       "50%      2011.000000\n",
       "75%      2012.000000\n",
       "max      2013.000000\n",
       "Name: cease_date, dtype: float64"
      ]
     },
     "execution_count": 37,
     "metadata": {},
     "output_type": "execute_result"
    }
   ],
   "source": [
    "tafe_resignations[\"cease_date\"].describe()"
   ]
  },
  {
   "cell_type": "markdown",
   "metadata": {},
   "source": [
    "The boxplot and the statistics above show how the dates are distributed. The graph shows that dates earlier than 2011 are outliers, and most of the dates lie between 2011 and 2012. "
   ]
  },
  {
   "cell_type": "markdown",
   "metadata": {},
   "source": [
    "### Inconsistencies Summary"
   ]
  },
  {
   "cell_type": "markdown",
   "metadata": {},
   "source": [
    "Above, I evaluated the starting and ending dates in the dataframes. I did not see any years listed after the current date, and I did not see any start dates before the year 1940. There were many outliers present, but nothing that seemed inherently incorrect.\n",
    "\n",
    "Therefore, I can verify that there aren't any major issues with the years."
   ]
  },
  {
   "cell_type": "markdown",
   "metadata": {},
   "source": [
    "## Creating New Columns - institute_service in dete_resignations"
   ]
  },
  {
   "cell_type": "markdown",
   "metadata": {},
   "source": [
    "In the Human Resources field, the length of time an employee spent in a workplace is referred to as their years of service.\n",
    "\n",
    "The tafe_resignations dataframe already contains a \"service\" column, which is named \"institute_service\". In order to analyze both surveys together, I will create a corresponding institute_service column in dete_resignations."
   ]
  },
  {
   "cell_type": "code",
   "execution_count": 38,
   "metadata": {
    "collapsed": false
   },
   "outputs": [
    {
     "name": "stderr",
     "output_type": "stream",
     "text": [
      "/dataquest/system/env/python3/lib/python3.4/site-packages/ipykernel/__main__.py:1: SettingWithCopyWarning:\n",
      "\n",
      "\n",
      "A value is trying to be set on a copy of a slice from a DataFrame.\n",
      "Try using .loc[row_indexer,col_indexer] = value instead\n",
      "\n",
      "See the caveats in the documentation: http://pandas.pydata.org/pandas-docs/stable/indexing.html#indexing-view-versus-copy\n",
      "\n"
     ]
    },
    {
     "data": {
      "text/plain": [
       "0.0     20\n",
       "1.0     22\n",
       "2.0     14\n",
       "3.0     20\n",
       "4.0     16\n",
       "5.0     23\n",
       "6.0     17\n",
       "7.0     13\n",
       "8.0      8\n",
       "9.0     14\n",
       "10.0     6\n",
       "11.0     4\n",
       "12.0     6\n",
       "13.0     8\n",
       "14.0     6\n",
       "15.0     7\n",
       "16.0     5\n",
       "17.0     6\n",
       "18.0     5\n",
       "19.0     3\n",
       "20.0     7\n",
       "21.0     3\n",
       "22.0     6\n",
       "23.0     4\n",
       "24.0     4\n",
       "25.0     2\n",
       "26.0     2\n",
       "27.0     1\n",
       "28.0     2\n",
       "29.0     1\n",
       "30.0     2\n",
       "31.0     1\n",
       "32.0     3\n",
       "33.0     1\n",
       "34.0     1\n",
       "35.0     1\n",
       "36.0     2\n",
       "38.0     1\n",
       "39.0     3\n",
       "41.0     1\n",
       "42.0     1\n",
       "49.0     1\n",
       "Name: institute_service, dtype: int64"
      ]
     },
     "execution_count": 38,
     "metadata": {},
     "output_type": "execute_result"
    }
   ],
   "source": [
    "dete_resignations[\"institute_service\"] = dete_resignations[\"cease_date\"]-dete_resignations[\"dete_start_date\"]\n",
    "dete_resignations[\"institute_service\"].value_counts().sort_index()"
   ]
  },
  {
   "cell_type": "markdown",
   "metadata": {},
   "source": [
    "In the above cell, I subtracted the start date from the resignation date in order to see the range of years worked. Employees at this company worked anywhere from 0 to 49 years before resigning. I will show this data in a boxplot below."
   ]
  },
  {
   "cell_type": "code",
   "execution_count": 39,
   "metadata": {
    "collapsed": false
   },
   "outputs": [
    {
     "data": {
      "image/png": "[encoded data removed]",
      "text/plain": [
       "<matplotlib.figure.Figure at 0x7fc2200420b8>"
      ]
     },
     "metadata": {},
     "output_type": "display_data"
    }
   ],
   "source": [
    "# Can use pandas to create a boxplot with a dataframe\n",
    "dete_resignations.boxplot(column=[\"institute_service\"])\n",
    "plt.title(\"Years Worked: dete_resignations\")\n",
    "plt.suptitle(\"\")\n",
    "plt.xlabel(\"\")\n",
    "plt.ylabel(\"Years\")\n",
    "plt.show()\n",
    "\n",
    "#Another way to create a boxplot with years_worked_range as series\n",
    "#years_worked_range.plot.box(title=\"Years_worked\")\n",
    "#plt.ylabel(\"Years\")"
   ]
  },
  {
   "cell_type": "code",
   "execution_count": 40,
   "metadata": {
    "collapsed": false
   },
   "outputs": [
    {
     "data": {
      "text/plain": [
       "count    273.000000\n",
       "mean      10.457875\n",
       "std        9.931709\n",
       "min        0.000000\n",
       "25%        3.000000\n",
       "50%        7.000000\n",
       "75%       16.000000\n",
       "max       49.000000\n",
       "Name: institute_service, dtype: float64"
      ]
     },
     "execution_count": 40,
     "metadata": {},
     "output_type": "execute_result"
    }
   ],
   "source": [
    "dete_resignations[\"institute_service\"].describe()"
   ]
  },
  {
   "cell_type": "markdown",
   "metadata": {},
   "source": [
    "The boxplot and the statistics above show how the number of years worked are distributed. I can see that most people worked between 3 and 16 years, with any value above 35 years being an outlier. "
   ]
  },
  {
   "cell_type": "markdown",
   "metadata": {
    "collapsed": true
   },
   "source": [
    "### Comparing to tafe_resignations[\"institute_service\"]"
   ]
  },
  {
   "cell_type": "code",
   "execution_count": 41,
   "metadata": {
    "collapsed": false
   },
   "outputs": [
    {
     "data": {
      "text/plain": [
       "Less than 1 year      73\n",
       "1-2                   64\n",
       "3-4                   63\n",
       "NaN                   50\n",
       "5-6                   33\n",
       "11-20                 26\n",
       "7-10                  21\n",
       "More than 20 years    10\n",
       "Name: institute_service, dtype: int64"
      ]
     },
     "execution_count": 41,
     "metadata": {},
     "output_type": "execute_result"
    }
   ],
   "source": [
    "tafe_resignations[\"institute_service\"].value_counts(dropna=False)"
   ]
  },
  {
   "cell_type": "markdown",
   "metadata": {},
   "source": [
    "institute_service in tafe_resignations is not in a numerical format, so I will need to update the information in order to compare to the other dataframe. I will clean this column after I combine the datasets."
   ]
  },
  {
   "cell_type": "markdown",
   "metadata": {},
   "source": [
    "## Resignation due to Dissatisfaction"
   ]
  },
  {
   "cell_type": "markdown",
   "metadata": {},
   "source": [
    "In order to determine if the employees may have resigned due to being dissatisfied, I will look at the following columns:\n",
    "- tafe_survey_updated:\n",
    "    - Contributing Factors. Dissatisfaction\n",
    "    - Contributing Factors. Job Dissatisfaction\n",
    "- dete_survey_updated:\n",
    "    - job_dissatisfaction\n",
    "    - dissatisfaction_with_the_department\n",
    "    - physical_work_environment\n",
    "    - lack_of_recognition\n",
    "    - lack_of_job_security\n",
    "    - work_location\n",
    "    - employment_conditions\n",
    "    - work_life_balance\n",
    "    - workload\n",
    "\n",
    "If the employee indicated that any of these factors caused them to leave, I will mark them as \"dissatisfied\" in a new column. "
   ]
  },
  {
   "cell_type": "markdown",
   "metadata": {},
   "source": [
    "### Dissatisfaction in tafe_resignations "
   ]
  },
  {
   "cell_type": "markdown",
   "metadata": {},
   "source": [
    "I will start by converting the columns in tafe_resignations to True, False, or NaN values. If either of the columns listed above contain a True value, I will add that True value to the new \"dissatisfied\" column. "
   ]
  },
  {
   "cell_type": "code",
   "execution_count": 42,
   "metadata": {
    "collapsed": false
   },
   "outputs": [
    {
     "data": {
      "text/plain": [
       "-                                         277\n",
       "Contributing Factors. Dissatisfaction      55\n",
       "NaN                                         8\n",
       "Name: Contributing Factors. Dissatisfaction, dtype: int64"
      ]
     },
     "execution_count": 42,
     "metadata": {},
     "output_type": "execute_result"
    }
   ],
   "source": [
    "tafe_resignations[\"Contributing Factors. Dissatisfaction\"].value_counts(dropna=False)"
   ]
  },
  {
   "cell_type": "code",
   "execution_count": 43,
   "metadata": {
    "collapsed": false
   },
   "outputs": [
    {
     "data": {
      "text/plain": [
       "-                      270\n",
       "Job Dissatisfaction     62\n",
       "NaN                      8\n",
       "Name: Contributing Factors. Job Dissatisfaction, dtype: int64"
      ]
     },
     "execution_count": 43,
     "metadata": {},
     "output_type": "execute_result"
    }
   ],
   "source": [
    "tafe_resignations[\"Contributing Factors. Job Dissatisfaction\"].value_counts(dropna=False)"
   ]
  },
  {
   "cell_type": "markdown",
   "metadata": {},
   "source": [
    "For the two columns above in tafe_registrations, three values are used as inputs: \"-\", \"NaN\", and \"Contributing Factors. Dissatisfaction\"/\"Job Dissatisfaction\".\n",
    "\n",
    "Below, I will write a function named **update_vals** that makes the following changes:\n",
    "- If the value is \"NaN\", it will return np.nan.\n",
    "- If the value is \"-\", it will return False.\n",
    "- For any other value, it will return True.\n",
    "\n",
    "I will then apply the function to the two columns in the tafe_registrations dataframe. "
   ]
  },
  {
   "cell_type": "code",
   "execution_count": 44,
   "metadata": {
    "collapsed": true
   },
   "outputs": [],
   "source": [
    "def update_vals(val):\n",
    "    if pd.isnull(val):\n",
    "        return np.nan\n",
    "    elif val == \"-\":\n",
    "        return False\n",
    "    else:\n",
    "        return True"
   ]
  },
  {
   "cell_type": "code",
   "execution_count": 45,
   "metadata": {
    "collapsed": false
   },
   "outputs": [],
   "source": [
    "# Create a new df with just the two col of interest\n",
    "dissatisfaction_col_tafe = pd.concat([tafe_resignations[\"Contributing Factors. Dissatisfaction\"],tafe_resignations[\"Contributing Factors. Job Dissatisfaction\"]], axis=1)\n",
    "\n",
    "# Create a df with the transformed columns using df.applymap()\n",
    "diss_col_tafe_TF = dissatisfaction_col_tafe.applymap(update_vals)"
   ]
  },
  {
   "cell_type": "code",
   "execution_count": 46,
   "metadata": {
    "collapsed": false
   },
   "outputs": [
    {
     "data": {
      "text/plain": [
       "False    277\n",
       "True      55\n",
       "NaN        8\n",
       "Name: Contributing Factors. Dissatisfaction, dtype: int64"
      ]
     },
     "execution_count": 46,
     "metadata": {},
     "output_type": "execute_result"
    }
   ],
   "source": [
    "# Counting to see if results match the expected results\n",
    "diss_col_tafe_TF[\"Contributing Factors. Dissatisfaction\"].value_counts(dropna=False)"
   ]
  },
  {
   "cell_type": "code",
   "execution_count": 47,
   "metadata": {
    "collapsed": false
   },
   "outputs": [
    {
     "data": {
      "text/plain": [
       "False    270\n",
       "True      62\n",
       "NaN        8\n",
       "Name: Contributing Factors. Job Dissatisfaction, dtype: int64"
      ]
     },
     "execution_count": 47,
     "metadata": {},
     "output_type": "execute_result"
    }
   ],
   "source": [
    "diss_col_tafe_TF[\"Contributing Factors. Job Dissatisfaction\"].value_counts(dropna=False)"
   ]
  },
  {
   "cell_type": "markdown",
   "metadata": {},
   "source": [
    "Above, I used value_counts(dropna=False) to see if the transformed columns had the expected number of Trues, Falses, and NaNs. The transformation worked as expected."
   ]
  },
  {
   "cell_type": "code",
   "execution_count": 48,
   "metadata": {
    "collapsed": false
   },
   "outputs": [],
   "source": [
    "# Make a copy of the dataframe and set it equal to\n",
    "# tafe_registrations_up\n",
    "tafe_resignations_up = tafe_resignations.copy()\n",
    "\n",
    "# Create a new column in tafe_registrations_up with a True\n",
    "# if any value in the diss_col_tafe_TF dataframe is True.\n",
    "tafe_resignations_up[\"dissatisfied\"] = diss_col_tafe_TF.any(axis=1, skipna=False)"
   ]
  },
  {
   "cell_type": "code",
   "execution_count": 49,
   "metadata": {
    "collapsed": false
   },
   "outputs": [
    {
     "data": {
      "text/plain": [
       "False    241\n",
       "True      91\n",
       "NaN        8\n",
       "Name: dissatisfied, dtype: int64"
      ]
     },
     "execution_count": 49,
     "metadata": {},
     "output_type": "execute_result"
    }
   ],
   "source": [
    "# Get the count of Trues, Falses, and NaNs in the new col\n",
    "tafe_resignations_up[\"dissatisfied\"].value_counts(dropna=False)"
   ]
  },
  {
   "cell_type": "markdown",
   "metadata": {},
   "source": [
    "Above, I created a new column in the tafe_registrations and added it to the new dataframe tafe_registrations_up. This new column, \"dissatisfied\", contains Trues, Falses, and NaNs. The column contains True if either of the  \"Contributing Factors. Dissatisfaction\" or \"Contributing Factors. Job Dissatisfaction\" columns had True values after transformation.\n",
    "\n",
    "This new column shows if an employee left due to dissatisfaction."
   ]
  },
  {
   "cell_type": "markdown",
   "metadata": {
    "collapsed": true
   },
   "source": [
    "### Dissatisfaction in dete_resignations "
   ]
  },
  {
   "cell_type": "markdown",
   "metadata": {},
   "source": [
    "I will now create a dissatisfaction column in the dete_resignations dataframe. In order to see if I need to transform the columns which contain dissatisfaction data into Trues and Falses, I will examine all of the relevant columns."
   ]
  },
  {
   "cell_type": "code",
   "execution_count": 50,
   "metadata": {
    "collapsed": false
   },
   "outputs": [
    {
     "data": {
      "text/plain": [
       "False    270\n",
       "True      41\n",
       "Name: job_dissatisfaction, dtype: int64"
      ]
     },
     "execution_count": 50,
     "metadata": {},
     "output_type": "execute_result"
    }
   ],
   "source": [
    "dete_resignations[\"job_dissatisfaction\"].value_counts(dropna=False)"
   ]
  },
  {
   "cell_type": "code",
   "execution_count": 51,
   "metadata": {
    "collapsed": false
   },
   "outputs": [
    {
     "data": {
      "text/plain": [
       "False    282\n",
       "True      29\n",
       "Name: dissatisfaction_with_the_department, dtype: int64"
      ]
     },
     "execution_count": 51,
     "metadata": {},
     "output_type": "execute_result"
    }
   ],
   "source": [
    "dete_resignations[\"dissatisfaction_with_the_department\"].value_counts(dropna=False)"
   ]
  },
  {
   "cell_type": "code",
   "execution_count": 52,
   "metadata": {
    "collapsed": false
   },
   "outputs": [
    {
     "data": {
      "text/plain": [
       "False    305\n",
       "True       6\n",
       "Name: physical_work_environment, dtype: int64"
      ]
     },
     "execution_count": 52,
     "metadata": {},
     "output_type": "execute_result"
    }
   ],
   "source": [
    "dete_resignations[\"physical_work_environment\"].value_counts(dropna=False)"
   ]
  },
  {
   "cell_type": "code",
   "execution_count": 53,
   "metadata": {
    "collapsed": false
   },
   "outputs": [
    {
     "data": {
      "text/plain": [
       "False    278\n",
       "True      33\n",
       "Name: lack_of_recognition, dtype: int64"
      ]
     },
     "execution_count": 53,
     "metadata": {},
     "output_type": "execute_result"
    }
   ],
   "source": [
    "dete_resignations[\"lack_of_recognition\"].value_counts(dropna=False)"
   ]
  },
  {
   "cell_type": "code",
   "execution_count": 54,
   "metadata": {
    "collapsed": false
   },
   "outputs": [
    {
     "data": {
      "text/plain": [
       "False    297\n",
       "True      14\n",
       "Name: lack_of_job_security, dtype: int64"
      ]
     },
     "execution_count": 54,
     "metadata": {},
     "output_type": "execute_result"
    }
   ],
   "source": [
    "dete_resignations[\"lack_of_job_security\"].value_counts(dropna=False)"
   ]
  },
  {
   "cell_type": "code",
   "execution_count": 55,
   "metadata": {
    "collapsed": false
   },
   "outputs": [
    {
     "data": {
      "text/plain": [
       "False    293\n",
       "True      18\n",
       "Name: work_location, dtype: int64"
      ]
     },
     "execution_count": 55,
     "metadata": {},
     "output_type": "execute_result"
    }
   ],
   "source": [
    "dete_resignations[\"work_location\"].value_counts(dropna=False)"
   ]
  },
  {
   "cell_type": "code",
   "execution_count": 56,
   "metadata": {
    "collapsed": false
   },
   "outputs": [
    {
     "data": {
      "text/plain": [
       "False    288\n",
       "True      23\n",
       "Name: employment_conditions, dtype: int64"
      ]
     },
     "execution_count": 56,
     "metadata": {},
     "output_type": "execute_result"
    }
   ],
   "source": [
    "dete_resignations[\"employment_conditions\"].value_counts(dropna=False)"
   ]
  },
  {
   "cell_type": "code",
   "execution_count": 57,
   "metadata": {
    "collapsed": false
   },
   "outputs": [
    {
     "data": {
      "text/plain": [
       "False    243\n",
       "True      68\n",
       "Name: work_life_balance, dtype: int64"
      ]
     },
     "execution_count": 57,
     "metadata": {},
     "output_type": "execute_result"
    }
   ],
   "source": [
    "dete_resignations[\"work_life_balance\"].value_counts(dropna=False)"
   ]
  },
  {
   "cell_type": "code",
   "execution_count": 58,
   "metadata": {
    "collapsed": false
   },
   "outputs": [
    {
     "data": {
      "text/plain": [
       "False    284\n",
       "True      27\n",
       "Name: workload, dtype: int64"
      ]
     },
     "execution_count": 58,
     "metadata": {},
     "output_type": "execute_result"
    }
   ],
   "source": [
    "dete_resignations[\"workload\"].value_counts(dropna=False)"
   ]
  },
  {
   "cell_type": "markdown",
   "metadata": {},
   "source": [
    "All of the relevant columns already contain data in the form of True and False. I will use the same df.any() method to create a \"dissatisfied\" column in dete_resignations."
   ]
  },
  {
   "cell_type": "code",
   "execution_count": 59,
   "metadata": {
    "collapsed": false
   },
   "outputs": [],
   "source": [
    "# Create a new df with the columns of interest\n",
    "dissatisfaction_col_dete = pd.concat([dete_resignations.iloc[:,13:20],dete_resignations.iloc[:,25:27]],axis=1)"
   ]
  },
  {
   "cell_type": "code",
   "execution_count": 60,
   "metadata": {
    "collapsed": true
   },
   "outputs": [],
   "source": [
    "# Make a copy of the dataframe and set it equal to\n",
    "# dete_registrations_up\n",
    "dete_resignations_up = dete_resignations.copy()\n",
    "\n",
    "# Create a new column in dete_registrations_up with a True\n",
    "# if any value in the dissatisfaction_col_dete dataframe is True.\n",
    "dete_resignations_up[\"dissatisfied\"] = dissatisfaction_col_dete.any(axis=1, skipna=False)"
   ]
  },
  {
   "cell_type": "code",
   "execution_count": 61,
   "metadata": {
    "collapsed": false
   },
   "outputs": [
    {
     "data": {
      "text/plain": [
       "False    162\n",
       "True     149\n",
       "Name: dissatisfied, dtype: int64"
      ]
     },
     "execution_count": 61,
     "metadata": {},
     "output_type": "execute_result"
    }
   ],
   "source": [
    "# Get the count of Trues, Falses, and NaNs in the new col\n",
    "dete_resignations_up[\"dissatisfied\"].value_counts(dropna=False)"
   ]
  },
  {
   "cell_type": "markdown",
   "metadata": {},
   "source": [
    "As I did for the tafe_registrations data, I created a new column in the dete_registrations and added it to the new dataframe dete_registrations_up.\n",
    "This new column shows if an employee left due to dissatisfaction in any of the nine categories described above."
   ]
  },
  {
   "cell_type": "markdown",
   "metadata": {},
   "source": [
    "## Combining the Datasets"
   ]
  },
  {
   "cell_type": "markdown",
   "metadata": {},
   "source": [
    "To recap, I've completed the following:\n",
    "- Renamed the columns\n",
    "- Dropped any data not needed for our analysis\n",
    "- Verified the quality of our data\n",
    "- Created a new institute_service column\n",
    "- Cleaned the Contributing Factors columns\n",
    "- Created a new column indicating if an employee resigned because they were dissatisfied in some way\n",
    "\n",
    "Now I will combine the data according to the institute_service column, which contains the years worked. This will set up the data to answer the stockholders' questions."
   ]
  },
  {
   "cell_type": "code",
   "execution_count": 62,
   "metadata": {
    "collapsed": false
   },
   "outputs": [
    {
     "name": "stdout",
     "output_type": "stream",
     "text": [
      "DETE    311\n",
      "Name: institute, dtype: int64\n",
      "TAFE    340\n",
      "Name: institute, dtype: int64\n"
     ]
    }
   ],
   "source": [
    "# Adding a column to each dataframe to distinguish between the data\n",
    "# Add a column named \"institute\" to both - each row should contain either\n",
    "# \"DETE\" or \"TAFE\"\n",
    "\n",
    "dete_resignations_up[\"institute\"] = \"DETE\"\n",
    "print(dete_resignations_up[\"institute\"].value_counts())\n",
    "\n",
    "tafe_resignations_up[\"institute\"] = \"TAFE\"\n",
    "print(tafe_resignations_up[\"institute\"].value_counts())"
   ]
  },
  {
   "cell_type": "code",
   "execution_count": 63,
   "metadata": {
    "collapsed": false
   },
   "outputs": [
    {
     "name": "stdout",
     "output_type": "stream",
     "text": [
      "<class 'pandas.core.frame.DataFrame'>\n",
      "RangeIndex: 651 entries, 0 to 650\n",
      "Data columns (total 53 columns):\n",
      "Contributing Factors. Career Move - Private Sector     332 non-null object\n",
      "Contributing Factors. Career Move - Public Sector      332 non-null object\n",
      "Contributing Factors. Career Move - Self-employment    332 non-null object\n",
      "Contributing Factors. Dissatisfaction                  332 non-null object\n",
      "Contributing Factors. Ill Health                       332 non-null object\n",
      "Contributing Factors. Interpersonal Conflict           332 non-null object\n",
      "Contributing Factors. Job Dissatisfaction              332 non-null object\n",
      "Contributing Factors. Maternity/Family                 332 non-null object\n",
      "Contributing Factors. NONE                             332 non-null object\n",
      "Contributing Factors. Other                            332 non-null object\n",
      "Contributing Factors. Study                            332 non-null object\n",
      "Contributing Factors. Travel                           332 non-null object\n",
      "Institute                                              340 non-null object\n",
      "WorkArea                                               340 non-null object\n",
      "aboriginal                                             7 non-null object\n",
      "age                                                    596 non-null object\n",
      "business_unit                                          32 non-null object\n",
      "career_move_to_private_sector                          311 non-null object\n",
      "career_move_to_public_sector                           311 non-null object\n",
      "cease_date                                             635 non-null float64\n",
      "classification                                         161 non-null object\n",
      "dete_start_date                                        283 non-null float64\n",
      "disability                                             8 non-null object\n",
      "dissatisfaction_with_the_department                    311 non-null object\n",
      "dissatisfied                                           643 non-null object\n",
      "employment_conditions                                  311 non-null object\n",
      "employment_status                                      597 non-null object\n",
      "gender                                                 592 non-null object\n",
      "id                                                     651 non-null float64\n",
      "ill_health                                             311 non-null object\n",
      "institute                                              651 non-null object\n",
      "institute_service                                      563 non-null object\n",
      "interpersonal_conflicts                                311 non-null object\n",
      "job_dissatisfaction                                    311 non-null object\n",
      "lack_of_job_security                                   311 non-null object\n",
      "lack_of_recognition                                    311 non-null object\n",
      "maternity/family                                       311 non-null object\n",
      "nesb                                                   9 non-null object\n",
      "none_of_the_above                                      311 non-null object\n",
      "physical_work_environment                              311 non-null object\n",
      "position                                               598 non-null object\n",
      "region                                                 265 non-null object\n",
      "relocation                                             311 non-null object\n",
      "role_service                                           290 non-null object\n",
      "role_start_date                                        271 non-null float64\n",
      "separationtype                                         651 non-null object\n",
      "south_sea                                              3 non-null object\n",
      "study/travel                                           311 non-null object\n",
      "torres_strait                                          0 non-null object\n",
      "traumatic_incident                                     311 non-null object\n",
      "work_life_balance                                      311 non-null object\n",
      "work_location                                          311 non-null object\n",
      "workload                                               311 non-null object\n",
      "dtypes: float64(4), object(49)\n",
      "memory usage: 269.6+ KB\n"
     ]
    }
   ],
   "source": [
    "# Combine the two datasets into one\n",
    "# Used pd.concat(axis=0) to add the datasets on top of each other\n",
    "combined = pd.concat([dete_resignations_up, tafe_resignations_up], ignore_index=True)\n",
    "\n",
    "# Look to see the columns in combined and the number of null values\n",
    "combined.info()"
   ]
  },
  {
   "cell_type": "code",
   "execution_count": 64,
   "metadata": {
    "collapsed": false
   },
   "outputs": [
    {
     "name": "stdout",
     "output_type": "stream",
     "text": [
      "<class 'pandas.core.frame.DataFrame'>\n",
      "RangeIndex: 651 entries, 0 to 650\n",
      "Data columns (total 10 columns):\n",
      "age                  596 non-null object\n",
      "cease_date           635 non-null float64\n",
      "dissatisfied         643 non-null object\n",
      "employment_status    597 non-null object\n",
      "gender               592 non-null object\n",
      "id                   651 non-null float64\n",
      "institute            651 non-null object\n",
      "institute_service    563 non-null object\n",
      "position             598 non-null object\n",
      "separationtype       651 non-null object\n",
      "dtypes: float64(2), object(8)\n",
      "memory usage: 50.9+ KB\n"
     ]
    }
   ],
   "source": [
    "# There are many columns not needed for the analysis after I have created \n",
    "# new columns to consolidate the data. \n",
    "\n",
    "# Drop columns with less than 500 non null values.\n",
    "combined_updated = combined.dropna(axis=1,thresh=500).copy()\n",
    "combined_updated.info()"
   ]
  },
  {
   "cell_type": "markdown",
   "metadata": {},
   "source": [
    "I have created a new dataframe called **combined_updated**. This dataframe is a combination of dete_resignations_up and tafe_resignations_up. After concatenating them, the new dataframe was filtered to only include columns with greater than 500 non null values. This dataframe now has 651 rows and 10 columns, including all of the columns I created (dissatisfied, institute, institute_service).\n",
    "\n",
    "I will use combined_updated for the remainder of the analysis."
   ]
  },
  {
   "cell_type": "markdown",
   "metadata": {
    "collapsed": true
   },
   "source": [
    "## Cleaning institute_service"
   ]
  },
  {
   "cell_type": "markdown",
   "metadata": {},
   "source": [
    "Currently, the column institute_service has a couple of different formats. The DETE rows have float values in the institute_service columns, but the TAFE rows have strings with a range of time. "
   ]
  },
  {
   "cell_type": "code",
   "execution_count": 65,
   "metadata": {
    "collapsed": false
   },
   "outputs": [
    {
     "data": {
      "text/plain": [
       "NaN                   88\n",
       "Less than 1 year      73\n",
       "1-2                   64\n",
       "3-4                   63\n",
       "5-6                   33\n",
       "11-20                 26\n",
       "5.0                   23\n",
       "1.0                   22\n",
       "7-10                  21\n",
       "0.0                   20\n",
       "3.0                   20\n",
       "6.0                   17\n",
       "4.0                   16\n",
       "2.0                   14\n",
       "9.0                   14\n",
       "7.0                   13\n",
       "More than 20 years    10\n",
       "8.0                    8\n",
       "13.0                   8\n",
       "15.0                   7\n",
       "20.0                   7\n",
       "10.0                   6\n",
       "12.0                   6\n",
       "14.0                   6\n",
       "22.0                   6\n",
       "17.0                   6\n",
       "18.0                   5\n",
       "16.0                   5\n",
       "11.0                   4\n",
       "23.0                   4\n",
       "24.0                   4\n",
       "19.0                   3\n",
       "32.0                   3\n",
       "21.0                   3\n",
       "39.0                   3\n",
       "30.0                   2\n",
       "25.0                   2\n",
       "26.0                   2\n",
       "28.0                   2\n",
       "36.0                   2\n",
       "38.0                   1\n",
       "49.0                   1\n",
       "42.0                   1\n",
       "41.0                   1\n",
       "29.0                   1\n",
       "35.0                   1\n",
       "34.0                   1\n",
       "33.0                   1\n",
       "27.0                   1\n",
       "31.0                   1\n",
       "Name: institute_service, dtype: int64"
      ]
     },
     "execution_count": 65,
     "metadata": {},
     "output_type": "execute_result"
    }
   ],
   "source": [
    "# Look at the column to see data\n",
    "combined_updated[\"institute_service\"].value_counts(dropna=False)"
   ]
  },
  {
   "cell_type": "markdown",
   "metadata": {},
   "source": [
    "To analyze this data, I will convert the numbers into categories. I will base my analysis on [this article](https://www.businesswire.com/news/home/20171108006002/en/Age-Number-Engage-Employees-Career-Stage). It states that it is more effective to understand an employee's needs according to career stage instead of age. \n",
    "\n",
    "The definitions I will use for career stages are:\n",
    "- New: less than 3 years at a company\n",
    "- Experienced: 3 to 6 years at a company\n",
    "- Established: 7 to 10 years at a company\n",
    "- Veteran: 11 or more years at a company\n",
    "\n",
    "I will categorize the values in the institute_service column using the above definitions.\n",
    "\n",
    "The different patterns in the column are currently floats, \"Less than 1 year\", \"More than 20 years\", and num-num to show a range. Knowing these patterns will help me extract the years using vectorized string methods."
   ]
  },
  {
   "cell_type": "code",
   "execution_count": 66,
   "metadata": {
    "collapsed": false
   },
   "outputs": [
    {
     "data": {
      "text/plain": [
       "1      159\n",
       "NaN     88\n",
       "3       83\n",
       "5       56\n",
       "7       34\n",
       "11      30\n",
       "0       20\n",
       "20      17\n",
       "6       17\n",
       "4       16\n",
       "9       14\n",
       "2       14\n",
       "13       8\n",
       "8        8\n",
       "15       7\n",
       "17       6\n",
       "10       6\n",
       "22       6\n",
       "12       6\n",
       "14       6\n",
       "18       5\n",
       "16       5\n",
       "24       4\n",
       "23       4\n",
       "21       3\n",
       "39       3\n",
       "32       3\n",
       "19       3\n",
       "30       2\n",
       "28       2\n",
       "26       2\n",
       "36       2\n",
       "25       2\n",
       "42       1\n",
       "49       1\n",
       "38       1\n",
       "33       1\n",
       "31       1\n",
       "29       1\n",
       "34       1\n",
       "27       1\n",
       "41       1\n",
       "35       1\n",
       "Name: institute_service, dtype: int64"
      ]
     },
     "execution_count": 66,
     "metadata": {},
     "output_type": "execute_result"
    }
   ],
   "source": [
    "# Change the column to type 'str' and then use regex expression to\n",
    "# extract first digit\n",
    "combined_updated[\"institute_service\"] = combined_updated[\"institute_service\"].astype(str).str.extract(r'([0-9][0-9]?)',expand=False)\n",
    "combined_updated[\"institute_service\"].value_counts(dropna=False)\n",
    "\n",
    "# The regex expression extracts the first value in the XX-XX pattern. \n",
    "# This works for my analysis purposes as it will allow categorization\n",
    "## into the correct bin."
   ]
  },
  {
   "cell_type": "code",
   "execution_count": 67,
   "metadata": {
    "collapsed": false
   },
   "outputs": [
    {
     "data": {
      "text/plain": [
       "count    563.000000\n",
       "mean       7.067496\n",
       "std        8.251974\n",
       "min        0.000000\n",
       "25%        1.000000\n",
       "50%        4.000000\n",
       "75%       10.000000\n",
       "max       49.000000\n",
       "Name: institute_service, dtype: float64"
      ]
     },
     "execution_count": 67,
     "metadata": {},
     "output_type": "execute_result"
    }
   ],
   "source": [
    "# Change values to float\n",
    "combined_updated[\"institute_service\"] = combined_updated[\"institute_service\"].astype(float)\n",
    "\n",
    "# Check to see if values converted to float\n",
    "combined_updated[\"institute_service\"].describe()"
   ]
  },
  {
   "cell_type": "code",
   "execution_count": 68,
   "metadata": {
    "collapsed": false
   },
   "outputs": [
    {
     "data": {
      "text/plain": [
       " 1.0     159\n",
       "NaN       88\n",
       " 3.0      83\n",
       " 5.0      56\n",
       " 7.0      34\n",
       " 11.0     30\n",
       " 0.0      20\n",
       " 20.0     17\n",
       " 6.0      17\n",
       " 4.0      16\n",
       " 9.0      14\n",
       " 2.0      14\n",
       " 13.0      8\n",
       " 8.0       8\n",
       " 15.0      7\n",
       " 22.0      6\n",
       " 10.0      6\n",
       " 17.0      6\n",
       " 14.0      6\n",
       " 12.0      6\n",
       " 16.0      5\n",
       " 18.0      5\n",
       " 24.0      4\n",
       " 23.0      4\n",
       " 21.0      3\n",
       " 39.0      3\n",
       " 32.0      3\n",
       " 19.0      3\n",
       " 36.0      2\n",
       " 30.0      2\n",
       " 25.0      2\n",
       " 26.0      2\n",
       " 28.0      2\n",
       " 42.0      1\n",
       " 29.0      1\n",
       " 35.0      1\n",
       " 27.0      1\n",
       " 41.0      1\n",
       " 49.0      1\n",
       " 38.0      1\n",
       " 34.0      1\n",
       " 33.0      1\n",
       " 31.0      1\n",
       "Name: institute_service, dtype: int64"
      ]
     },
     "execution_count": 68,
     "metadata": {},
     "output_type": "execute_result"
    }
   ],
   "source": [
    "# Evaluate to see if I lost any data -- matches the values previously\n",
    "combined_updated[\"institute_service\"].value_counts(dropna=False)"
   ]
  },
  {
   "cell_type": "markdown",
   "metadata": {},
   "source": [
    "Now that I have all of the years worked in float type, I can map each value to the career stages defined above. To do this, I will create a function that maps each year value to one of the stages. I will then use the Series.apply() method to apply the function to the series. I will save that to a new column called \"service_cat\"."
   ]
  },
  {
   "cell_type": "code",
   "execution_count": 69,
   "metadata": {
    "collapsed": true
   },
   "outputs": [],
   "source": [
    "# Create a function to categorize values into career stages\n",
    "def map_stages(val):\n",
    "    if pd.isnull(val):\n",
    "        return np.nan\n",
    "    elif val < 3:\n",
    "        return \"New\" # Less than 3 years at a company\n",
    "    elif val >= 3 and val <= 6:\n",
    "        return \"Experienced\" # 3-6 years at a company\n",
    "    elif val >= 7 and val <= 10:\n",
    "        return \"Established\" # 7-10 years at a company\n",
    "    else:\n",
    "        return \"Veteran\" # 11 or more years at a company"
   ]
  },
  {
   "cell_type": "code",
   "execution_count": 70,
   "metadata": {
    "collapsed": false
   },
   "outputs": [
    {
     "name": "stdout",
     "output_type": "stream",
     "text": [
      "0    Established\n",
      "1        Veteran\n",
      "2    Experienced\n",
      "3        Veteran\n",
      "4    Experienced\n",
      "Name: service_cat, dtype: object\n"
     ]
    },
    {
     "data": {
      "text/plain": [
       "New            193\n",
       "Experienced    172\n",
       "Veteran        136\n",
       "NaN             88\n",
       "Established     62\n",
       "Name: service_cat, dtype: int64"
      ]
     },
     "execution_count": 70,
     "metadata": {},
     "output_type": "execute_result"
    }
   ],
   "source": [
    "# Use Series.apply() and map_stages to transform the institute_service column\n",
    "combined_updated[\"service_cat\"] = combined_updated[\"institute_service\"].apply(map_stages)\n",
    "\n",
    "# Check the results of the apply method\n",
    "print(combined_updated[\"service_cat\"].head())\n",
    "combined_updated[\"service_cat\"].value_counts(dropna=False)"
   ]
  },
  {
   "cell_type": "markdown",
   "metadata": {},
   "source": [
    "In this section, I cleaned the institute_service column and grouped the values into different categories to reflect the career stages of the employees who resigned. This information will be used in the next step to analyze why different stage employees left their jobs. "
   ]
  },
  {
   "cell_type": "markdown",
   "metadata": {},
   "source": [
    "## Cleaning Age"
   ]
  },
  {
   "cell_type": "markdown",
   "metadata": {},
   "source": [
    "In order to answer the question about dissatisfaction and age, I need to evaluate and clean the \"age\" column. "
   ]
  },
  {
   "cell_type": "code",
   "execution_count": 71,
   "metadata": {
    "collapsed": false
   },
   "outputs": [
    {
     "data": {
      "text/plain": [
       "51-55            71\n",
       "NaN              55\n",
       "41-45            48\n",
       "41  45           45\n",
       "46-50            42\n",
       "36-40            41\n",
       "46  50           39\n",
       "26-30            35\n",
       "21  25           33\n",
       "36  40           32\n",
       "31  35           32\n",
       "26  30           32\n",
       "31-35            29\n",
       "56 or older      29\n",
       "21-25            29\n",
       "56-60            26\n",
       "61 or older      23\n",
       "20 or younger    10\n",
       "Name: age, dtype: int64"
      ]
     },
     "execution_count": 71,
     "metadata": {},
     "output_type": "execute_result"
    }
   ],
   "source": [
    "combined_updated[\"age\"].value_counts(dropna=False)"
   ]
  },
  {
   "cell_type": "markdown",
   "metadata": {},
   "source": [
    "I can see that the data for age is stored in two different ways: with two spaces between ages or a \"-\". I will make the column consistent and replace the spaces with a \"-\"."
   ]
  },
  {
   "cell_type": "code",
   "execution_count": 72,
   "metadata": {
    "collapsed": false
   },
   "outputs": [],
   "source": [
    "# Convert age column to str\n",
    "combined_updated[\"age\"] = combined_updated[\"age\"].astype(str)"
   ]
  },
  {
   "cell_type": "code",
   "execution_count": 73,
   "metadata": {
    "collapsed": false,
    "scrolled": true
   },
   "outputs": [
    {
     "data": {
      "text/plain": [
       "20 or younger    10\n",
       "21-25            62\n",
       "26-30            67\n",
       "31-35            61\n",
       "36-40            73\n",
       "41-45            93\n",
       "46-50            81\n",
       "51-55            71\n",
       "56-60            55\n",
       "61 or older      23\n",
       "NaN              55\n",
       "Name: age_cleaned, dtype: int64"
      ]
     },
     "execution_count": 73,
     "metadata": {},
     "output_type": "execute_result"
    }
   ],
   "source": [
    "# Clean age column and put it in a new column age_cleaned\n",
    "combined_updated[\"age_cleaned\"] = combined_updated[\"age\"].str.replace(\"  \",\"-\").str.replace(\"56 or older\", \"56-60\")\n",
    "# change nan values to null values\n",
    "combined_updated.loc[combined_updated[\"age_cleaned\"] == \"nan\", \"age_cleaned\"] = np.nan\n",
    "\n",
    "combined_updated[\"age_cleaned\"].value_counts(dropna=False).sort_index()"
   ]
  },
  {
   "cell_type": "markdown",
   "metadata": {},
   "source": [
    "In this section, I cleaned the age column in order to have consistent values across the dataset. This information will be used in the next step to analyze why employees at different ages left their jobs. "
   ]
  },
  {
   "cell_type": "markdown",
   "metadata": {},
   "source": [
    "## Start of Analysis"
   ]
  },
  {
   "cell_type": "markdown",
   "metadata": {},
   "source": [
    "Now that I have a column to describe the career stages of the employees who have resigned, I can begin to answer the posed questions:\n",
    "- Are employees who only worked for the institutes for a short period of time resigning due to some kind of dissatisfaction? What about employees who have been there longer?\n",
    "- Are younger employees resigning due to some kind of dissatisfaction? What about older employees?\n",
    "\n",
    "To start, I will fill in the missing values in the \"dissatisfied\" column and then aggregate the data. \n",
    "The \"dissatisfied\" column consists of Boolean values; a pivot table treats Boolean values as integers, so True = 1 and False = 0. I can use that to aggregate the \"dissatisfied\" column and calculate a variety of statistics."
   ]
  },
  {
   "cell_type": "markdown",
   "metadata": {},
   "source": [
    "### Prepping \"Dissatisfied\" Column"
   ]
  },
  {
   "cell_type": "code",
   "execution_count": 74,
   "metadata": {
    "collapsed": false
   },
   "outputs": [
    {
     "data": {
      "text/plain": [
       "False    403\n",
       "True     240\n",
       "NaN        8\n",
       "Name: dissatisfied, dtype: int64"
      ]
     },
     "execution_count": 74,
     "metadata": {},
     "output_type": "execute_result"
    }
   ],
   "source": [
    "# Confirm numbers in dissatisfied column\n",
    "combined_updated[\"dissatisfied\"].value_counts(dropna=False)"
   ]
  },
  {
   "cell_type": "code",
   "execution_count": 75,
   "metadata": {
    "collapsed": false
   },
   "outputs": [
    {
     "data": {
      "text/plain": [
       "False    411\n",
       "True     240\n",
       "Name: dissatisfied, dtype: int64"
      ]
     },
     "execution_count": 75,
     "metadata": {},
     "output_type": "execute_result"
    }
   ],
   "source": [
    "# Replace NaN values with the more frequent value: False\n",
    "combined_updated[\"dissatisfied\"] = combined_updated[\"dissatisfied\"].fillna(False)\n",
    "combined_updated[\"dissatisfied\"].value_counts(dropna=False)"
   ]
  },
  {
   "cell_type": "markdown",
   "metadata": {},
   "source": [
    "### Career Stage and Dissatisfaction\n",
    "- Are employees who only worked for the institutes for a short period of time resigning due to some kind of dissatisfaction? What about employees who have been there longer?"
   ]
  },
  {
   "cell_type": "code",
   "execution_count": 76,
   "metadata": {
    "collapsed": false
   },
   "outputs": [
    {
     "name": "stdout",
     "output_type": "stream",
     "text": [
      "             dissatisfied\n",
      "service_cat              \n",
      "Established      0.516129\n",
      "Experienced      0.343023\n",
      "New              0.295337\n",
      "Veteran          0.485294\n"
     ]
    }
   ],
   "source": [
    "# Use a pivot table to calculate the percentage of dissatisfied employees in each\n",
    "# career stage\n",
    "cat_dis_pt = combined_updated.pivot_table(index=\"service_cat\",values=\"dissatisfied\", \n",
    "                             aggfunc=np.mean) # mean is default arg\n",
    "print(cat_dis_pt)"
   ]
  },
  {
   "cell_type": "code",
   "execution_count": 77,
   "metadata": {
    "collapsed": false
   },
   "outputs": [
    {
     "data": {
      "image/png": "[encoded data removed]",
      "text/plain": [
       "<matplotlib.figure.Figure at 0x7fc220163cc0>"
      ]
     },
     "metadata": {},
     "output_type": "display_data"
    }
   ],
   "source": [
    "cat_dis_pt.plot(kind=\"bar\", rot = 0, legend=False,\n",
    "                title=\"Resignation: Career Stage and Dissatisfaction\")\n",
    "plt.xlabel(\"Employee Career Stage\")\n",
    "plt.ylabel(\"Percent Dissatisfied\")\n",
    "plt.show()"
   ]
  },
  {
   "cell_type": "markdown",
   "metadata": {},
   "source": [
    "The above bar graph answers the first set of questions: \n",
    "\n",
    "Are employees who only worked for the institutes for a short period of time resigning due to some kind of dissatisfaction? \n",
    "What about employees who have been there longer?\n",
    "\n",
    "New employees (under 3 years employment) resigned due to dissatisfaction less than other the other groups. Only 29.5% of resigned new employees reported any dissatisfaction.\n",
    "\n",
    "The later career stage employees showed a rise in resignation due to dissatisfaction, with 34.3% of \"Experienced\" employees and 51.6% of \"Established\" claiming some dissatisfaction. The percentage decreased for \"Veteran\" employees, going down to 48.5%.\n",
    "\n",
    "**In summary, newer employees are resigning due to dissatisfaction less than employees who have been at the company longer.**\n"
   ]
  },
  {
   "cell_type": "markdown",
   "metadata": {
    "collapsed": true
   },
   "source": [
    "### Age and Dissatisfaction\n",
    "- Are younger employees resigning due to some kind of dissatisfaction? What about older employees?\n"
   ]
  },
  {
   "cell_type": "code",
   "execution_count": 78,
   "metadata": {
    "collapsed": false
   },
   "outputs": [
    {
     "data": {
      "text/html": [
       "<div>\n",
       "<style scoped>\n",
       "    .dataframe tbody tr th:only-of-type {\n",
       "        vertical-align: middle;\n",
       "    }\n",
       "\n",
       "    .dataframe tbody tr th {\n",
       "        vertical-align: top;\n",
       "    }\n",
       "\n",
       "    .dataframe thead th {\n",
       "        text-align: right;\n",
       "    }\n",
       "</style>\n",
       "<table border=\"1\" class=\"dataframe\">\n",
       "  <thead>\n",
       "    <tr style=\"text-align: right;\">\n",
       "      <th></th>\n",
       "      <th>dissatisfied</th>\n",
       "    </tr>\n",
       "    <tr>\n",
       "      <th>age_cleaned</th>\n",
       "      <th></th>\n",
       "    </tr>\n",
       "  </thead>\n",
       "  <tbody>\n",
       "    <tr>\n",
       "      <th>20 or younger</th>\n",
       "      <td>0.200000</td>\n",
       "    </tr>\n",
       "    <tr>\n",
       "      <th>21-25</th>\n",
       "      <td>0.306452</td>\n",
       "    </tr>\n",
       "    <tr>\n",
       "      <th>26-30</th>\n",
       "      <td>0.417910</td>\n",
       "    </tr>\n",
       "    <tr>\n",
       "      <th>31-35</th>\n",
       "      <td>0.377049</td>\n",
       "    </tr>\n",
       "    <tr>\n",
       "      <th>36-40</th>\n",
       "      <td>0.342466</td>\n",
       "    </tr>\n",
       "    <tr>\n",
       "      <th>41-45</th>\n",
       "      <td>0.376344</td>\n",
       "    </tr>\n",
       "    <tr>\n",
       "      <th>46-50</th>\n",
       "      <td>0.382716</td>\n",
       "    </tr>\n",
       "    <tr>\n",
       "      <th>51-55</th>\n",
       "      <td>0.422535</td>\n",
       "    </tr>\n",
       "    <tr>\n",
       "      <th>56-60</th>\n",
       "      <td>0.381818</td>\n",
       "    </tr>\n",
       "    <tr>\n",
       "      <th>61 or older</th>\n",
       "      <td>0.521739</td>\n",
       "    </tr>\n",
       "  </tbody>\n",
       "</table>\n",
       "</div>"
      ],
      "text/plain": [
       "               dissatisfied\n",
       "age_cleaned                \n",
       "20 or younger      0.200000\n",
       "21-25              0.306452\n",
       "26-30              0.417910\n",
       "31-35              0.377049\n",
       "36-40              0.342466\n",
       "41-45              0.376344\n",
       "46-50              0.382716\n",
       "51-55              0.422535\n",
       "56-60              0.381818\n",
       "61 or older        0.521739"
      ]
     },
     "execution_count": 78,
     "metadata": {},
     "output_type": "execute_result"
    }
   ],
   "source": [
    "# Use a pivot table to calculate the percentage of dissatisfied employees in each\n",
    "# age group\n",
    "age_dis_pt = combined_updated.pivot_table(index=\"age_cleaned\",values=\"dissatisfied\").iloc[0:10,:] \n",
    "# mean is default arg and .iloc[:,0:10] removes nan values\n",
    "age_dis_pt"
   ]
  },
  {
   "cell_type": "code",
   "execution_count": 79,
   "metadata": {
    "collapsed": false
   },
   "outputs": [
    {
     "data": {
      "image/png": "[encoded data removed]",
      "text/plain": [
       "<matplotlib.figure.Figure at 0x7fc22015fef0>"
      ]
     },
     "metadata": {},
     "output_type": "display_data"
    }
   ],
   "source": [
    "age_dis_pt.plot(kind=\"bar\", rot = 90, legend=False,\n",
    "                title=\"Resignation: Age and Dissatisfaction\")\n",
    "plt.xlabel(\"Employee Age\")\n",
    "plt.ylabel(\"Percent Dissatisfied\")\n",
    "plt.show()"
   ]
  },
  {
   "cell_type": "markdown",
   "metadata": {},
   "source": [
    "The above bar graph answers the second set of questions: \n",
    "\n",
    "Are younger employees resigning due to some kind of dissatisfaction? What about older employees?\n",
    "\n",
    "Younger employees resigned due to dissatisfaction less than other the other groups, with only around 20% of employees aged 20 or younger reporting dissatisfaction.\n",
    "\n",
    "The group with the largest percentage of resigned employees claiming dissatisfaction is 61 or older, with a percentage of 52%.\n",
    "\n",
    "Employees between 26 and 60 resign due to dissatisfaction at a rate of 34-42%, which rests in the middle.\n",
    "\n",
    "**In summary, the youngest employees have the lowest rate of resigning due to dissatisfaction, and the oldest employees have the highest rate.**"
   ]
  },
  {
   "cell_type": "markdown",
   "metadata": {},
   "source": [
    "# Summary"
   ]
  },
  {
   "cell_type": "markdown",
   "metadata": {},
   "source": [
    "The analysis so far has showed that the groups most at risk of resigning due to dissatisfaction are the older employees (61 or older) and those who have been at the company 7 to 10 years (Established). The groups least at risk are the employees who are 21 and younger and those who have been at the company less than three years (New)."
   ]
  },
  {
   "cell_type": "markdown",
   "metadata": {
    "collapsed": true
   },
   "source": [
    "# Further Exploration"
   ]
  },
  {
   "cell_type": "markdown",
   "metadata": {},
   "source": [
    "Separate evaluation of the impact of age and career stage on resigning due to dissatisfaction showed that the groups in each most at risk of leaving are employees 61 and older and established employees (7 to 10 years). \n",
    "\n",
    "I want to investigate into that a bit further, and look at which combination of career stage and age is most likely to claim leaving due to dissatisfaction. I will also look into the effects of institute and position."
   ]
  },
  {
   "cell_type": "markdown",
   "metadata": {},
   "source": [
    "## Effects of Career Stage and Age"
   ]
  },
  {
   "cell_type": "code",
   "execution_count": 80,
   "metadata": {
    "collapsed": false
   },
   "outputs": [
    {
     "data": {
      "text/html": [
       "<div>\n",
       "<style scoped>\n",
       "    .dataframe tbody tr th:only-of-type {\n",
       "        vertical-align: middle;\n",
       "    }\n",
       "\n",
       "    .dataframe tbody tr th {\n",
       "        vertical-align: top;\n",
       "    }\n",
       "\n",
       "    .dataframe thead th {\n",
       "        text-align: right;\n",
       "    }\n",
       "</style>\n",
       "<table border=\"1\" class=\"dataframe\">\n",
       "  <thead>\n",
       "    <tr style=\"text-align: right;\">\n",
       "      <th>age_cleaned</th>\n",
       "      <th>20 or younger</th>\n",
       "      <th>21-25</th>\n",
       "      <th>26-30</th>\n",
       "      <th>31-35</th>\n",
       "      <th>36-40</th>\n",
       "      <th>41-45</th>\n",
       "      <th>46-50</th>\n",
       "      <th>51-55</th>\n",
       "      <th>56-60</th>\n",
       "      <th>61 or older</th>\n",
       "    </tr>\n",
       "    <tr>\n",
       "      <th>service_cat</th>\n",
       "      <th></th>\n",
       "      <th></th>\n",
       "      <th></th>\n",
       "      <th></th>\n",
       "      <th></th>\n",
       "      <th></th>\n",
       "      <th></th>\n",
       "      <th></th>\n",
       "      <th></th>\n",
       "      <th></th>\n",
       "    </tr>\n",
       "  </thead>\n",
       "  <tbody>\n",
       "    <tr>\n",
       "      <th>Established</th>\n",
       "      <td>NaN</td>\n",
       "      <td>0.000000</td>\n",
       "      <td>0.545455</td>\n",
       "      <td>0.75</td>\n",
       "      <td>0.400000</td>\n",
       "      <td>0.666667</td>\n",
       "      <td>0.363636</td>\n",
       "      <td>0.500000</td>\n",
       "      <td>0.333333</td>\n",
       "      <td>0.500000</td>\n",
       "    </tr>\n",
       "    <tr>\n",
       "      <th>Experienced</th>\n",
       "      <td>0.333333</td>\n",
       "      <td>0.285714</td>\n",
       "      <td>0.444444</td>\n",
       "      <td>0.30</td>\n",
       "      <td>0.380952</td>\n",
       "      <td>0.413793</td>\n",
       "      <td>0.285714</td>\n",
       "      <td>0.250000</td>\n",
       "      <td>0.250000</td>\n",
       "      <td>0.500000</td>\n",
       "    </tr>\n",
       "    <tr>\n",
       "      <th>New</th>\n",
       "      <td>0.142857</td>\n",
       "      <td>0.297297</td>\n",
       "      <td>0.320000</td>\n",
       "      <td>0.25</td>\n",
       "      <td>0.347826</td>\n",
       "      <td>0.233333</td>\n",
       "      <td>0.368421</td>\n",
       "      <td>0.318182</td>\n",
       "      <td>0.400000</td>\n",
       "      <td>NaN</td>\n",
       "    </tr>\n",
       "    <tr>\n",
       "      <th>Veteran</th>\n",
       "      <td>NaN</td>\n",
       "      <td>NaN</td>\n",
       "      <td>NaN</td>\n",
       "      <td>0.40</td>\n",
       "      <td>0.285714</td>\n",
       "      <td>0.500000</td>\n",
       "      <td>0.545455</td>\n",
       "      <td>0.600000</td>\n",
       "      <td>0.387097</td>\n",
       "      <td>0.642857</td>\n",
       "    </tr>\n",
       "  </tbody>\n",
       "</table>\n",
       "</div>"
      ],
      "text/plain": [
       "age_cleaned  20 or younger     21-25     26-30  31-35     36-40     41-45  \\\n",
       "service_cat                                                                 \n",
       "Established            NaN  0.000000  0.545455   0.75  0.400000  0.666667   \n",
       "Experienced       0.333333  0.285714  0.444444   0.30  0.380952  0.413793   \n",
       "New               0.142857  0.297297  0.320000   0.25  0.347826  0.233333   \n",
       "Veteran                NaN       NaN       NaN   0.40  0.285714  0.500000   \n",
       "\n",
       "age_cleaned     46-50     51-55     56-60  61 or older  \n",
       "service_cat                                             \n",
       "Established  0.363636  0.500000  0.333333     0.500000  \n",
       "Experienced  0.285714  0.250000  0.250000     0.500000  \n",
       "New          0.368421  0.318182  0.400000          NaN  \n",
       "Veteran      0.545455  0.600000  0.387097     0.642857  "
      ]
     },
     "execution_count": 80,
     "metadata": {},
     "output_type": "execute_result"
    }
   ],
   "source": [
    "# Use a pivot table to calculate the percentage of dissatisfied employees in each\n",
    "# age group\n",
    "dis_pt = combined_updated.pivot_table(index=\"service_cat\",columns=\"age_cleaned\",values=\"dissatisfied\") # mean is default arg\n",
    "dis_pt = dis_pt.iloc[:,0:10] # Remove NaN column in pivot table\n",
    "dis_pt.head()"
   ]
  },
  {
   "cell_type": "code",
   "execution_count": 81,
   "metadata": {
    "collapsed": false
   },
   "outputs": [
    {
     "data": {
      "image/png": "[encoded data removed]",
      "text/plain": [
       "<matplotlib.figure.Figure at 0x7fc21ff1c3c8>"
      ]
     },
     "metadata": {},
     "output_type": "display_data"
    }
   ],
   "source": [
    "# Create a fig to put in 4 subplots\n",
    "fig=plt.figure(figsize=(15,15))\n",
    "fig.suptitle('Dissatisfied Employees by Career Stage and Age', fontsize=16)\n",
    "\n",
    "ax = plt.subplot(\"221\")\n",
    "# Select only the \"New\" row\n",
    "dis_pt.iloc[2,:].plot(kind=\"bar\", ax= ax)\n",
    "plt.ylabel(\"Percent Dissatisfied\")\n",
    "ax.set_title(\"New: Less than 3 years\")\n",
    "ax.set_ylim([0, .8])\n",
    "\n",
    "ax = plt.subplot(\"222\")\n",
    "dis_pt.iloc[1,:].plot(kind=\"bar\", ax= ax)\n",
    "ax.set_title(\"Experienced: 3-6 years\")\n",
    "ax.set_ylim([0, .8])\n",
    "\n",
    "ax = plt.subplot(\"223\")\n",
    "dis_pt.iloc[0,:].plot(kind=\"bar\", ax= ax)\n",
    "plt.xlabel(\"Employee Age\")\n",
    "plt.ylabel(\"Percent Dissatisfied\")\n",
    "ax.set_title(\"Established: 7-10 years\")\n",
    "ax.set_ylim([0, .8])\n",
    "\n",
    "ax = plt.subplot(\"224\")\n",
    "dis_pt.iloc[3,:].plot(kind=\"bar\", ax= ax)\n",
    "plt.xlabel(\"Employee Age\")\n",
    "ax.set_title(\"Veteran: 11 or more years\")\n",
    "ax.set_ylim([0, .8])\n",
    "\n",
    "plt.show()"
   ]
  },
  {
   "cell_type": "markdown",
   "metadata": {},
   "source": [
    "Based on the plots above, I can see that in the New, Experienced, and Veteran groups, the oldest employees are the most likely to claim dissatisfaction at resignation.\n",
    "\n",
    "The Established employees do not follow this trend, showing the highest dissatisfaction claims for employees of 31-35 years, followed by 41-45 years, and then 26-30 years. \n",
    "\n",
    "The group with the lowest claim to resigning due to dissatisfaction is the new employees who are 20 or younger. \n",
    "\n",
    "The group with the highest dissatisfaction claim is the 31-35 year old established employees (7 to 10 years). Based on their age and the time at the company, this was most likely a first or second job. "
   ]
  },
  {
   "cell_type": "markdown",
   "metadata": {},
   "source": [
    "## Comparing Institutes: DETE vs TAFE"
   ]
  },
  {
   "cell_type": "markdown",
   "metadata": {
    "collapsed": true
   },
   "source": [
    "I want to now evaluate the difference in resigning due to dissatisfaction between the two institutes, DETE and TAFE. I can do this by creating a pivot table and plotting the results."
   ]
  },
  {
   "cell_type": "code",
   "execution_count": 82,
   "metadata": {
    "collapsed": false
   },
   "outputs": [
    {
     "data": {
      "text/plain": [
       "TAFE    340\n",
       "DETE    311\n",
       "Name: institute, dtype: int64"
      ]
     },
     "execution_count": 82,
     "metadata": {},
     "output_type": "execute_result"
    }
   ],
   "source": [
    "# Find number of TAFE vs DETE rows\n",
    "combined_updated[\"institute\"].value_counts(dropna=False)\n",
    "\n",
    "# Shows that I have similar amounts of data from each institute"
   ]
  },
  {
   "cell_type": "markdown",
   "metadata": {},
   "source": [
    "### Dissatisfaction per Institute"
   ]
  },
  {
   "cell_type": "code",
   "execution_count": 83,
   "metadata": {
    "collapsed": false
   },
   "outputs": [
    {
     "data": {
      "image/png": "[encoded data removed]",
      "text/plain": [
       "<matplotlib.figure.Figure at 0x7fc21ff396a0>"
      ]
     },
     "metadata": {},
     "output_type": "display_data"
    }
   ],
   "source": [
    "inst_pt = combined_updated.pivot_table(index=\"institute\",values=\"dissatisfied\") \n",
    "#dis_pt = dis_pt.iloc[:,0:10] # Remove NaN column in pivot table\n",
    "inst_pt.plot(kind=\"bar\", rot = 0, legend=False,\n",
    "                title=\"Resignation due to Dissatisfaction per Institute\")\n",
    "plt.xlabel(\"Institute\")\n",
    "plt.ylabel(\"Percent Dissatisfied\")\n",
    "plt.show()"
   ]
  },
  {
   "cell_type": "markdown",
   "metadata": {},
   "source": [
    "Based on this analysis, I can see that employees in DETE claimed dissatisfaction was a part of their resignation decision at a much higher rate than TAFE employees. \n",
    "\n",
    "Below I will explore to see how the institutes compare looking at age and career stage as variables."
   ]
  },
  {
   "cell_type": "markdown",
   "metadata": {},
   "source": [
    "### Effects of Career Stage on Dissatisfaction per Institute"
   ]
  },
  {
   "cell_type": "code",
   "execution_count": 84,
   "metadata": {
    "collapsed": false
   },
   "outputs": [
    {
     "data": {
      "text/html": [
       "<div>\n",
       "<style scoped>\n",
       "    .dataframe tbody tr th:only-of-type {\n",
       "        vertical-align: middle;\n",
       "    }\n",
       "\n",
       "    .dataframe tbody tr th {\n",
       "        vertical-align: top;\n",
       "    }\n",
       "\n",
       "    .dataframe thead th {\n",
       "        text-align: right;\n",
       "    }\n",
       "</style>\n",
       "<table border=\"1\" class=\"dataframe\">\n",
       "  <thead>\n",
       "    <tr style=\"text-align: right;\">\n",
       "      <th>institute</th>\n",
       "      <th>DETE</th>\n",
       "      <th>TAFE</th>\n",
       "    </tr>\n",
       "    <tr>\n",
       "      <th>service_cat</th>\n",
       "      <th></th>\n",
       "      <th></th>\n",
       "    </tr>\n",
       "  </thead>\n",
       "  <tbody>\n",
       "    <tr>\n",
       "      <th>Established</th>\n",
       "      <td>0.609756</td>\n",
       "      <td>0.333333</td>\n",
       "    </tr>\n",
       "    <tr>\n",
       "      <th>Experienced</th>\n",
       "      <td>0.460526</td>\n",
       "      <td>0.250000</td>\n",
       "    </tr>\n",
       "    <tr>\n",
       "      <th>New</th>\n",
       "      <td>0.375000</td>\n",
       "      <td>0.262774</td>\n",
       "    </tr>\n",
       "    <tr>\n",
       "      <th>Veteran</th>\n",
       "      <td>0.560000</td>\n",
       "      <td>0.277778</td>\n",
       "    </tr>\n",
       "  </tbody>\n",
       "</table>\n",
       "</div>"
      ],
      "text/plain": [
       "institute        DETE      TAFE\n",
       "service_cat                    \n",
       "Established  0.609756  0.333333\n",
       "Experienced  0.460526  0.250000\n",
       "New          0.375000  0.262774\n",
       "Veteran      0.560000  0.277778"
      ]
     },
     "execution_count": 84,
     "metadata": {},
     "output_type": "execute_result"
    }
   ],
   "source": [
    "# Create a pivot table to evaluate the effects of career stage and institute on dissatisfaction\n",
    "inst_pt1 = combined_updated.pivot_table(index=\"service_cat\",columns=\"institute\",values=\"dissatisfied\") # mean is default arg\n",
    "inst_pt1"
   ]
  },
  {
   "cell_type": "code",
   "execution_count": 85,
   "metadata": {
    "collapsed": false
   },
   "outputs": [
    {
     "data": {
      "image/png": "[encoded data removed]",
      "text/plain": [
       "<matplotlib.figure.Figure at 0x7fc21fa117f0>"
      ]
     },
     "metadata": {},
     "output_type": "display_data"
    }
   ],
   "source": [
    "inst_pt1.plot(kind=\"bar\", rot = 0,\n",
    "                title=\"Resignation due to Dissatisfaction per Institute and Career Stage\")\n",
    "plt.xlabel(\"Career Stage\")\n",
    "plt.ylabel(\"Percent Dissatisfied\")\n",
    "plt.legend(loc=0,fontsize=\"small\") #legend loc in best place, small font\n",
    "plt.show()"
   ]
  },
  {
   "cell_type": "markdown",
   "metadata": {},
   "source": [
    "The graph above shows that DETE and TAFE have similar patterns of dissatisfaction, with Established and Veteran employees showing the highest rate. DETE is higher in all cases."
   ]
  },
  {
   "cell_type": "markdown",
   "metadata": {},
   "source": [
    "### Effects of Employee Age on Dissatisfaction per Institute"
   ]
  },
  {
   "cell_type": "code",
   "execution_count": 86,
   "metadata": {
    "collapsed": false
   },
   "outputs": [
    {
     "data": {
      "text/html": [
       "<div>\n",
       "<style scoped>\n",
       "    .dataframe tbody tr th:only-of-type {\n",
       "        vertical-align: middle;\n",
       "    }\n",
       "\n",
       "    .dataframe tbody tr th {\n",
       "        vertical-align: top;\n",
       "    }\n",
       "\n",
       "    .dataframe thead th {\n",
       "        text-align: right;\n",
       "    }\n",
       "</style>\n",
       "<table border=\"1\" class=\"dataframe\">\n",
       "  <thead>\n",
       "    <tr style=\"text-align: right;\">\n",
       "      <th>institute</th>\n",
       "      <th>DETE</th>\n",
       "      <th>TAFE</th>\n",
       "    </tr>\n",
       "    <tr>\n",
       "      <th>age_cleaned</th>\n",
       "      <th></th>\n",
       "      <th></th>\n",
       "    </tr>\n",
       "  </thead>\n",
       "  <tbody>\n",
       "    <tr>\n",
       "      <th>20 or younger</th>\n",
       "      <td>0.000000</td>\n",
       "      <td>0.222222</td>\n",
       "    </tr>\n",
       "    <tr>\n",
       "      <th>21-25</th>\n",
       "      <td>0.310345</td>\n",
       "      <td>0.303030</td>\n",
       "    </tr>\n",
       "    <tr>\n",
       "      <th>26-30</th>\n",
       "      <td>0.571429</td>\n",
       "      <td>0.250000</td>\n",
       "    </tr>\n",
       "    <tr>\n",
       "      <th>31-35</th>\n",
       "      <td>0.551724</td>\n",
       "      <td>0.218750</td>\n",
       "    </tr>\n",
       "    <tr>\n",
       "      <th>36-40</th>\n",
       "      <td>0.390244</td>\n",
       "      <td>0.281250</td>\n",
       "    </tr>\n",
       "    <tr>\n",
       "      <th>41-45</th>\n",
       "      <td>0.479167</td>\n",
       "      <td>0.266667</td>\n",
       "    </tr>\n",
       "    <tr>\n",
       "      <th>46-50</th>\n",
       "      <td>0.452381</td>\n",
       "      <td>0.307692</td>\n",
       "    </tr>\n",
       "    <tr>\n",
       "      <th>51-55</th>\n",
       "      <td>0.593750</td>\n",
       "      <td>0.282051</td>\n",
       "    </tr>\n",
       "    <tr>\n",
       "      <th>56-60</th>\n",
       "      <td>0.576923</td>\n",
       "      <td>0.206897</td>\n",
       "    </tr>\n",
       "    <tr>\n",
       "      <th>61 or older</th>\n",
       "      <td>0.521739</td>\n",
       "      <td>NaN</td>\n",
       "    </tr>\n",
       "  </tbody>\n",
       "</table>\n",
       "</div>"
      ],
      "text/plain": [
       "institute          DETE      TAFE\n",
       "age_cleaned                      \n",
       "20 or younger  0.000000  0.222222\n",
       "21-25          0.310345  0.303030\n",
       "26-30          0.571429  0.250000\n",
       "31-35          0.551724  0.218750\n",
       "36-40          0.390244  0.281250\n",
       "41-45          0.479167  0.266667\n",
       "46-50          0.452381  0.307692\n",
       "51-55          0.593750  0.282051\n",
       "56-60          0.576923  0.206897\n",
       "61 or older    0.521739       NaN"
      ]
     },
     "execution_count": 86,
     "metadata": {},
     "output_type": "execute_result"
    }
   ],
   "source": [
    "# Create a pivot table to evaluate the effects of age and institute on dissatisfaction\n",
    "inst_pt2 = combined_updated.pivot_table(index=\"age_cleaned\",columns=\"institute\",values=\"dissatisfied\") # mean is default arg\n",
    "inst_pt2"
   ]
  },
  {
   "cell_type": "code",
   "execution_count": 87,
   "metadata": {
    "collapsed": false
   },
   "outputs": [
    {
     "data": {
      "image/png": "[encoded data removed]",
      "text/plain": [
       "<matplotlib.figure.Figure at 0x7fc21f94f3c8>"
      ]
     },
     "metadata": {},
     "output_type": "display_data"
    }
   ],
   "source": [
    "inst_pt2.plot(kind=\"bar\", rot = 90,\n",
    "                title=\"Resignation due to Dissatisfaction per Institute and Employee Age\")\n",
    "plt.xlabel(\"Employee Age\")\n",
    "plt.ylabel(\"Percent Dissatisfied\")\n",
    "plt.legend(loc=0,fontsize=\"small\") #legend loc in best place, small font\n",
    "plt.show()"
   ]
  },
  {
   "cell_type": "markdown",
   "metadata": {},
   "source": [
    "The graph above looks at how dissatisfaction scores compare between the two institutes looking at employee age. DETE again shows the highest rate in every category. However, employees aged 21 to 25 are very similar between each institute. I can also see that the two institutes show differences in regards to age with 46-50 showing highest dissatisfaction in TAFE and 51-55 highest in DETE. "
   ]
  },
  {
   "cell_type": "markdown",
   "metadata": {},
   "source": [
    "### Institute Summary"
   ]
  },
  {
   "cell_type": "markdown",
   "metadata": {},
   "source": [
    "The differences between the institutes look very significant, but it is important to remember that there were 9 columns to describe dissatisfaction in the DETE survey, and two in TAFE. As I marked dissatisfaction as True if any of the variables were maked True, there is a higher likelyhood that DETE values would end up with a higher dissatisfaction score. \n",
    "\n",
    "The differences could also come from a difference in job position, or some other factor not yet evaluated."
   ]
  },
  {
   "cell_type": "markdown",
   "metadata": {},
   "source": [
    "## Effects of \"Position\""
   ]
  },
  {
   "cell_type": "markdown",
   "metadata": {},
   "source": [
    "I would like to see if position affects resignation due to dissatisfaction. First, I will need to make the values more consistent across institutes."
   ]
  },
  {
   "cell_type": "code",
   "execution_count": 88,
   "metadata": {
    "collapsed": false
   },
   "outputs": [
    {
     "data": {
      "text/plain": [
       "Administration (AO)                                        148\n",
       "Teacher                                                    129\n",
       "Teacher (including LVT)                                     95\n",
       "Teacher Aide                                                63\n",
       "NaN                                                         53\n",
       "Cleaner                                                     39\n",
       "Public Servant                                              30\n",
       "Professional Officer (PO)                                   16\n",
       "Operational (OO)                                            13\n",
       "Head of Curriculum/Head of Special Education                10\n",
       "School Administrative Staff                                  8\n",
       "Technical Officer                                            8\n",
       "Schools Officer                                              7\n",
       "Workplace Training Officer                                   6\n",
       "School Based Professional Staff (Therapist, nurse, etc)      5\n",
       "Technical Officer (TO)                                       5\n",
       "Executive (SES/SO)                                           4\n",
       "Other                                                        3\n",
       "Guidance Officer                                             3\n",
       "Tutor                                                        3\n",
       "Professional Officer                                         2\n",
       "Business Service Manager                                     1\n",
       "Name: position, dtype: int64"
      ]
     },
     "execution_count": 88,
     "metadata": {},
     "output_type": "execute_result"
    }
   ],
   "source": [
    "combined_updated[\"position\"].value_counts(dropna=False)"
   ]
  },
  {
   "cell_type": "markdown",
   "metadata": {},
   "source": [
    "I can see that there are two different names for the same position in multiple cases. Below, I will explore how the positions break down between institutes. "
   ]
  },
  {
   "cell_type": "code",
   "execution_count": 89,
   "metadata": {
    "collapsed": false
   },
   "outputs": [
    {
     "name": "stdout",
     "output_type": "stream",
     "text": [
      "DETE Careers\n"
     ]
    },
    {
     "data": {
      "text/plain": [
       "Teacher                                                    129\n",
       "Teacher Aide                                                63\n",
       "Cleaner                                                     39\n",
       "Public Servant                                              30\n",
       "Head of Curriculum/Head of Special Education                10\n",
       "Technical Officer                                            8\n",
       "School Administrative Staff                                  8\n",
       "Schools Officer                                              7\n",
       "School Based Professional Staff (Therapist, nurse, etc)      5\n",
       "Other                                                        3\n",
       "Guidance Officer                                             3\n",
       "Professional Officer                                         2\n",
       "Business Service Manager                                     1\n",
       "Name: position, dtype: int64"
      ]
     },
     "execution_count": 89,
     "metadata": {},
     "output_type": "execute_result"
    }
   ],
   "source": [
    "print(\"DETE Careers\")\n",
    "combined_updated.loc[combined_updated[\"institute\"] == \"DETE\",\"position\"].value_counts()"
   ]
  },
  {
   "cell_type": "code",
   "execution_count": 90,
   "metadata": {
    "collapsed": false
   },
   "outputs": [
    {
     "name": "stdout",
     "output_type": "stream",
     "text": [
      "TAFE Careers\n"
     ]
    },
    {
     "data": {
      "text/plain": [
       "Administration (AO)           148\n",
       "Teacher (including LVT)        95\n",
       "Professional Officer (PO)      16\n",
       "Operational (OO)               13\n",
       "Workplace Training Officer      6\n",
       "Technical Officer (TO)          5\n",
       "Executive (SES/SO)              4\n",
       "Tutor                           3\n",
       "Name: position, dtype: int64"
      ]
     },
     "execution_count": 90,
     "metadata": {},
     "output_type": "execute_result"
    }
   ],
   "source": [
    "print(\"TAFE Careers\")\n",
    "combined_updated.loc[combined_updated[\"institute\"] == \"TAFE\",\"position\"].value_counts()"
   ]
  },
  {
   "cell_type": "markdown",
   "metadata": {},
   "source": [
    "Looking at the positions from each institute, I can see that there is significant overlap in titles, but the names are different. For example, a teacher in the DETE institute was logged as \"Teacher\", but as \"Teacher (including LVT)\" in the TAFE institute. \n",
    "\n",
    "Making the titles consistent may assist in the evaluation of the effects of position on resigning due to dissatisfaction."
   ]
  },
  {
   "cell_type": "code",
   "execution_count": 91,
   "metadata": {
    "collapsed": false
   },
   "outputs": [],
   "source": [
    "# Update position vales to be more consistent across institutes\n",
    "combined_updated = combined_updated.replace({\"position\" : { \"Teacher (including LVT)\" : \"Teacher\", \"School Administrative Staff\" : \"Administration\", \"Administration (AO)\" : \"Administration\" , \"Technical Officer (TO)\" : \"Technical Officer\", \"Professional Officer (PO)\" : \"Professional Officer\", \"Operational (OO)\" : \"Operational Officer\"}})"
   ]
  },
  {
   "cell_type": "markdown",
   "metadata": {},
   "source": [
    "In order to see the effect of position on reasons for resignation, I will create a graph to visualize the differences. "
   ]
  },
  {
   "cell_type": "code",
   "execution_count": 92,
   "metadata": {
    "collapsed": false
   },
   "outputs": [
    {
     "data": {
      "image/png": "[encoded data removed]",
      "text/plain": [
       "<matplotlib.figure.Figure at 0x7fc21f9573c8>"
      ]
     },
     "metadata": {},
     "output_type": "display_data"
    }
   ],
   "source": [
    "pos_pt1 = combined_updated.pivot_table(index=\"position\",values=\"dissatisfied\") # mean is default arg\n",
    "pos_pt1.plot(kind=\"bar\", rot = 90, legend=False,\n",
    "                title=\"Resignation due to Dissatisfaction per Position and Institute\")\n",
    "plt.xlabel(\"Position\")\n",
    "plt.ylabel(\"Percent Dissatisfied\")\n",
    "plt.show()"
   ]
  },
  {
   "cell_type": "markdown",
   "metadata": {},
   "source": [
    "In the graph above, I can see some dramatic results, with Guidance Officers at 1, and Business Service Managers, Tutors, and Workplace Training Officers at 0. This could be due to a unanimous response on dissatisfaction, or a small sample size. I will check the number of responders below."
   ]
  },
  {
   "cell_type": "code",
   "execution_count": 93,
   "metadata": {
    "collapsed": false
   },
   "outputs": [
    {
     "data": {
      "image/png": "[encoded data removed]",
      "text/plain": [
       "<matplotlib.figure.Figure at 0x7fc21fa15e80>"
      ]
     },
     "metadata": {},
     "output_type": "display_data"
    }
   ],
   "source": [
    "num = combined_updated[\"position\"].value_counts()\n",
    "num.plot(kind=\"bar\", color = \"blue\", title=\"Employees per Position\")\n",
    "plt.xlabel(\"Position\")\n",
    "plt.ylabel(\"Number of Employees\")\n",
    "plt.show()"
   ]
  },
  {
   "cell_type": "markdown",
   "metadata": {},
   "source": [
    "I can see that all of the positions at 1 and 0 have very low numbers of employees, which makes the results less significant. The positions with the most employees have dissatisfaction results between 0.2 and 0.5, with Administration having the lowest value. \n",
    "\n",
    "(SHOULD I LOOK AT ONLY THE POSITIONS WITH MORE THAN X EMPLOYEES??)"
   ]
  },
  {
   "cell_type": "code",
   "execution_count": null,
   "metadata": {
    "collapsed": true
   },
   "outputs": [],
   "source": []
  },
  {
   "cell_type": "code",
   "execution_count": 94,
   "metadata": {
    "collapsed": false
   },
   "outputs": [
    {
     "data": {
      "image/png": "[encoded data removed]",
      "text/plain": [
       "<matplotlib.figure.Figure at 0x7fc21f8ce978>"
      ]
     },
     "metadata": {},
     "output_type": "display_data"
    }
   ],
   "source": [
    "pos_pt = combined_updated.pivot_table(index=\"position\",columns=\"institute\",values=\"dissatisfied\") # mean is default arg\n",
    "pos_pt.plot(kind=\"bar\", rot = 90,\n",
    "                title=\"Resignation due to Dissatisfaction per Position and Institute\")\n",
    "plt.xlabel(\"Position\")\n",
    "plt.ylabel(\"Percent Dissatisfied\")\n",
    "plt.legend(loc=0,fontsize=\"small\") #legend loc in best place, small font\n",
    "plt.show()"
   ]
  },
  {
   "cell_type": "markdown",
   "metadata": {},
   "source": [
    "Although I made several of the titles consistent across the institututes, many positions were only present in either DETE or TAFE, which makes comparison impossible for those titles. \n",
    "\n",
    "The positions I can compare are Teacher, Technical Officer, Administration, and Professional Officer. Teachers and Administration in DETE showed a higher rate of resigning due to dissatisfaction, and Technical and Professional Officers in TAFE had the higher rate. "
   ]
  },
  {
   "cell_type": "code",
   "execution_count": null,
   "metadata": {
    "collapsed": true
   },
   "outputs": [],
   "source": []
  },
  {
   "cell_type": "code",
   "execution_count": 95,
   "metadata": {
    "collapsed": false
   },
   "outputs": [],
   "source": [
    "#combined_updated.groupby([\"institute\",\"position\"]).size()\n",
    "# hard to read"
   ]
  },
  {
   "cell_type": "code",
   "execution_count": 96,
   "metadata": {
    "collapsed": false
   },
   "outputs": [
    {
     "name": "stdout",
     "output_type": "stream",
     "text": [
      "<class 'pandas.core.frame.DataFrame'>\n",
      "RangeIndex: 651 entries, 0 to 650\n",
      "Data columns (total 12 columns):\n",
      "age                  651 non-null object\n",
      "cease_date           635 non-null float64\n",
      "dissatisfied         651 non-null bool\n",
      "employment_status    597 non-null object\n",
      "gender               592 non-null object\n",
      "id                   651 non-null float64\n",
      "institute            651 non-null object\n",
      "institute_service    563 non-null float64\n",
      "position             598 non-null object\n",
      "separationtype       651 non-null object\n",
      "service_cat          563 non-null object\n",
      "age_cleaned          596 non-null object\n",
      "dtypes: bool(1), float64(3), object(8)\n",
      "memory usage: 56.7+ KB\n"
     ]
    }
   ],
   "source": [
    "combined_updated.info()"
   ]
  },
  {
   "cell_type": "code",
   "execution_count": 97,
   "metadata": {
    "collapsed": false
   },
   "outputs": [
    {
     "data": {
      "text/html": [
       "<div>\n",
       "<style scoped>\n",
       "    .dataframe tbody tr th:only-of-type {\n",
       "        vertical-align: middle;\n",
       "    }\n",
       "\n",
       "    .dataframe tbody tr th {\n",
       "        vertical-align: top;\n",
       "    }\n",
       "\n",
       "    .dataframe thead th {\n",
       "        text-align: right;\n",
       "    }\n",
       "</style>\n",
       "<table border=\"1\" class=\"dataframe\">\n",
       "  <thead>\n",
       "    <tr style=\"text-align: right;\">\n",
       "      <th>service_cat</th>\n",
       "      <th>Established</th>\n",
       "      <th>Experienced</th>\n",
       "      <th>New</th>\n",
       "      <th>Veteran</th>\n",
       "    </tr>\n",
       "    <tr>\n",
       "      <th>age_cleaned</th>\n",
       "      <th></th>\n",
       "      <th></th>\n",
       "      <th></th>\n",
       "      <th></th>\n",
       "    </tr>\n",
       "  </thead>\n",
       "  <tbody>\n",
       "    <tr>\n",
       "      <th>20 or younger</th>\n",
       "      <td>NaN</td>\n",
       "      <td>0.333333</td>\n",
       "      <td>0.142857</td>\n",
       "      <td>NaN</td>\n",
       "    </tr>\n",
       "    <tr>\n",
       "      <th>21-25</th>\n",
       "      <td>0.000000</td>\n",
       "      <td>0.285714</td>\n",
       "      <td>0.297297</td>\n",
       "      <td>NaN</td>\n",
       "    </tr>\n",
       "    <tr>\n",
       "      <th>26-30</th>\n",
       "      <td>0.545455</td>\n",
       "      <td>0.444444</td>\n",
       "      <td>0.320000</td>\n",
       "      <td>NaN</td>\n",
       "    </tr>\n",
       "    <tr>\n",
       "      <th>31-35</th>\n",
       "      <td>0.750000</td>\n",
       "      <td>0.300000</td>\n",
       "      <td>0.250000</td>\n",
       "      <td>0.400000</td>\n",
       "    </tr>\n",
       "    <tr>\n",
       "      <th>36-40</th>\n",
       "      <td>0.400000</td>\n",
       "      <td>0.380952</td>\n",
       "      <td>0.347826</td>\n",
       "      <td>0.285714</td>\n",
       "    </tr>\n",
       "    <tr>\n",
       "      <th>41-45</th>\n",
       "      <td>0.666667</td>\n",
       "      <td>0.413793</td>\n",
       "      <td>0.233333</td>\n",
       "      <td>0.500000</td>\n",
       "    </tr>\n",
       "    <tr>\n",
       "      <th>46-50</th>\n",
       "      <td>0.363636</td>\n",
       "      <td>0.285714</td>\n",
       "      <td>0.368421</td>\n",
       "      <td>0.545455</td>\n",
       "    </tr>\n",
       "    <tr>\n",
       "      <th>51-55</th>\n",
       "      <td>0.500000</td>\n",
       "      <td>0.250000</td>\n",
       "      <td>0.318182</td>\n",
       "      <td>0.600000</td>\n",
       "    </tr>\n",
       "    <tr>\n",
       "      <th>56-60</th>\n",
       "      <td>0.333333</td>\n",
       "      <td>0.250000</td>\n",
       "      <td>0.400000</td>\n",
       "      <td>0.387097</td>\n",
       "    </tr>\n",
       "    <tr>\n",
       "      <th>61 or older</th>\n",
       "      <td>0.500000</td>\n",
       "      <td>0.500000</td>\n",
       "      <td>NaN</td>\n",
       "      <td>0.642857</td>\n",
       "    </tr>\n",
       "  </tbody>\n",
       "</table>\n",
       "</div>"
      ],
      "text/plain": [
       "service_cat    Established  Experienced       New   Veteran\n",
       "age_cleaned                                                \n",
       "20 or younger          NaN     0.333333  0.142857       NaN\n",
       "21-25             0.000000     0.285714  0.297297       NaN\n",
       "26-30             0.545455     0.444444  0.320000       NaN\n",
       "31-35             0.750000     0.300000  0.250000  0.400000\n",
       "36-40             0.400000     0.380952  0.347826  0.285714\n",
       "41-45             0.666667     0.413793  0.233333  0.500000\n",
       "46-50             0.363636     0.285714  0.368421  0.545455\n",
       "51-55             0.500000     0.250000  0.318182  0.600000\n",
       "56-60             0.333333     0.250000  0.400000  0.387097\n",
       "61 or older       0.500000     0.500000       NaN  0.642857"
      ]
     },
     "execution_count": 97,
     "metadata": {},
     "output_type": "execute_result"
    }
   ],
   "source": [
    "dis_pt1 = combined_updated.pivot_table(index=\"age_cleaned\",columns=\"service_cat\",values=\"dissatisfied\").iloc[0:10,:] # mean is default arg\n",
    "dis_pt1"
   ]
  },
  {
   "cell_type": "code",
   "execution_count": 98,
   "metadata": {
    "collapsed": false
   },
   "outputs": [
    {
     "data": {
      "text/plain": [
       "<matplotlib.axes._subplots.AxesSubplot at 0x7fc220087f60>"
      ]
     },
     "execution_count": 98,
     "metadata": {},
     "output_type": "execute_result"
    },
    {
     "data": {
      "image/png": "[encoded data removed]",
      "text/plain": [
       "<matplotlib.figure.Figure at 0x7fc21ff507f0>"
      ]
     },
     "metadata": {},
     "output_type": "display_data"
    }
   ],
   "source": [
    "dis_pt1.plot(kind=\"bar\",figsize=(12,12))"
   ]
  },
  {
   "cell_type": "code",
   "execution_count": 99,
   "metadata": {
    "collapsed": false
   },
   "outputs": [
    {
     "data": {
      "text/html": [
       "<div>\n",
       "<style scoped>\n",
       "    .dataframe tbody tr th:only-of-type {\n",
       "        vertical-align: middle;\n",
       "    }\n",
       "\n",
       "    .dataframe tbody tr th {\n",
       "        vertical-align: top;\n",
       "    }\n",
       "\n",
       "    .dataframe thead th {\n",
       "        text-align: right;\n",
       "    }\n",
       "</style>\n",
       "<table border=\"1\" class=\"dataframe\">\n",
       "  <thead>\n",
       "    <tr style=\"text-align: right;\">\n",
       "      <th></th>\n",
       "      <th>dissatisfied</th>\n",
       "    </tr>\n",
       "    <tr>\n",
       "      <th>age_cleaned</th>\n",
       "      <th></th>\n",
       "    </tr>\n",
       "  </thead>\n",
       "  <tbody>\n",
       "    <tr>\n",
       "      <th>20 or younger</th>\n",
       "      <td>0.142857</td>\n",
       "    </tr>\n",
       "    <tr>\n",
       "      <th>21-25</th>\n",
       "      <td>0.297297</td>\n",
       "    </tr>\n",
       "    <tr>\n",
       "      <th>26-30</th>\n",
       "      <td>0.320000</td>\n",
       "    </tr>\n",
       "    <tr>\n",
       "      <th>31-35</th>\n",
       "      <td>0.250000</td>\n",
       "    </tr>\n",
       "    <tr>\n",
       "      <th>36-40</th>\n",
       "      <td>0.347826</td>\n",
       "    </tr>\n",
       "    <tr>\n",
       "      <th>41-45</th>\n",
       "      <td>0.233333</td>\n",
       "    </tr>\n",
       "    <tr>\n",
       "      <th>46-50</th>\n",
       "      <td>0.368421</td>\n",
       "    </tr>\n",
       "    <tr>\n",
       "      <th>51-55</th>\n",
       "      <td>0.318182</td>\n",
       "    </tr>\n",
       "    <tr>\n",
       "      <th>56-60</th>\n",
       "      <td>0.400000</td>\n",
       "    </tr>\n",
       "  </tbody>\n",
       "</table>\n",
       "</div>"
      ],
      "text/plain": [
       "               dissatisfied\n",
       "age_cleaned                \n",
       "20 or younger      0.142857\n",
       "21-25              0.297297\n",
       "26-30              0.320000\n",
       "31-35              0.250000\n",
       "36-40              0.347826\n",
       "41-45              0.233333\n",
       "46-50              0.368421\n",
       "51-55              0.318182\n",
       "56-60              0.400000"
      ]
     },
     "execution_count": 99,
     "metadata": {},
     "output_type": "execute_result"
    }
   ],
   "source": [
    "estab_df = combined_updated[combined_updated[\"service_cat\"] == \"Established\"]\n",
    "exper_df = combined_updated[combined_updated[\"service_cat\"] == \"Experienced\"]\n",
    "vet_df = combined_updated[combined_updated[\"service_cat\"] == \"Veteran\"]\n",
    "new_df = combined_updated[combined_updated[\"service_cat\"] == \"New\"]\n",
    "\n",
    "new_pt = new_df.pivot_table(index=\"age_cleaned\",values=\"dissatisfied\")\n",
    "new_pt"
   ]
  },
  {
   "cell_type": "code",
   "execution_count": 100,
   "metadata": {
    "collapsed": false
   },
   "outputs": [
    {
     "name": "stdout",
     "output_type": "stream",
     "text": [
      "0\n",
      "20 or younger\n",
      "0.14285714285714285\n",
      "1\n",
      "21-25\n",
      "0.2972972972972973\n",
      "2\n",
      "26-30\n",
      "0.32\n",
      "3\n",
      "31-35\n",
      "0.25\n",
      "4\n",
      "36-40\n",
      "0.34782608695652173\n",
      "5\n",
      "41-45\n",
      "0.23333333333333334\n",
      "6\n",
      "46-50\n",
      "0.3684210526315789\n",
      "7\n",
      "51-55\n",
      "0.3181818181818182\n",
      "8\n",
      "56-60\n",
      "0.4\n"
     ]
    },
    {
     "data": {
      "text/plain": [
       "([<matplotlib.axis.XTick at 0x7fc21f5bf3c8>,\n",
       "  <matplotlib.axis.XTick at 0x7fc21f5bf160>,\n",
       "  <matplotlib.axis.XTick at 0x7fc21f5bf828>,\n",
       "  <matplotlib.axis.XTick at 0x7fc21f5abac8>,\n",
       "  <matplotlib.axis.XTick at 0x7fc21f631ba8>,\n",
       "  <matplotlib.axis.XTick at 0x7fc21f6aa860>,\n",
       "  <matplotlib.axis.XTick at 0x7fc21f5895c0>],\n",
       " <a list of 7 Text xticklabel objects>)"
      ]
     },
     "execution_count": 100,
     "metadata": {},
     "output_type": "execute_result"
    },
    {
     "data": {
      "image/png": "[encoded data removed]",
      "text/plain": [
       "<matplotlib.figure.Figure at 0x7fc21f711cc0>"
      ]
     },
     "metadata": {},
     "output_type": "display_data"
    }
   ],
   "source": [
    "new_pt = new_df.pivot_table(index=\"age_cleaned\",values=\"dissatisfied\")\n",
    "exper_pt = exper_df.pivot_table(index=\"age_cleaned\",values=\"dissatisfied\")\n",
    "estab_pt = estab_df.pivot_table(index=\"age_cleaned\",values=\"dissatisfied\")\n",
    "vet_pt = vet_df.pivot_table(index=\"age_cleaned\",values=\"dissatisfied\")\n",
    "\n",
    "df1 = new_pt.reset_index()\n",
    "df2 = exper_pt.reset_index()\n",
    "df3 = estab_pt.reset_index()\n",
    "df4 = vet_pt.reset_index()\n",
    "\n",
    "fig, ax = plt.subplots(2,2,figsize=(15,15))\n",
    "\n",
    "#r[0] gives an index for row num, r[1] gives the age label, r[2] gives the $\n",
    "for r in df1.itertuples():\n",
    "    print(r[0])\n",
    "    print(r[1])\n",
    "    print(r[2])\n",
    "    ax[0,0].bar(r[0],r[2],label=r[1])\n",
    "   #plt.xticks(np.arange(10),(\"a\",\"b\",\"c\",\"d\",\"e\",\"f\",\"g\",\"h\",\"i\",\"j\"))\n",
    "plt.xticks(df2.index,df2.age_cleaned)\n",
    "\n",
    "for r in df2.itertuples():\n",
    "    ax[0,1].bar(r[0],r[2],label=r[1])\n",
    "plt.xticks(df2.index,df2.age_cleaned)\n",
    "\n",
    "for r in df3.itertuples():\n",
    "    ax[1,0].bar(r[0],r[2],label=r[1])\n",
    "plt.xticks(df3.index,df3.age_cleaned)\n",
    "\n",
    "for r in df4.itertuples():\n",
    "    ax[1,1].bar(r[0],r[2],label=r[1])\n",
    "plt.xticks(df4.index,df4.age_cleaned)"
   ]
  },
  {
   "cell_type": "code",
   "execution_count": 101,
   "metadata": {
    "collapsed": false
   },
   "outputs": [
    {
     "data": {
      "image/png": "[encoded data removed]",
      "text/plain": [
       "<matplotlib.figure.Figure at 0x7fc21f7652b0>"
      ]
     },
     "metadata": {},
     "output_type": "display_data"
    },
    {
     "data": {
      "image/png": "[encoded data removed]",
      "text/plain": [
       "<matplotlib.figure.Figure at 0x7fc21fa5d358>"
      ]
     },
     "metadata": {},
     "output_type": "display_data"
    },
    {
     "data": {
      "image/png": "[encoded data removed]",
      "text/plain": [
       "<matplotlib.figure.Figure at 0x7fc21fe77710>"
      ]
     },
     "metadata": {},
     "output_type": "display_data"
    },
    {
     "data": {
      "image/png": "[encoded data removed]",
      "text/plain": [
       "<matplotlib.figure.Figure at 0x7fc21f7f5940>"
      ]
     },
     "metadata": {},
     "output_type": "display_data"
    }
   ],
   "source": [
    "new_pt.plot(kind = 'bar', color=\"green\")\n",
    "plt.xlabel(\"Employee Age\")\n",
    "plt.ylabel(\"Percent Dissatisfied\")\n",
    "plt.ylim(0,1)\n",
    "L=plt.legend()\n",
    "L.get_texts()[0].set_text('New')\n",
    "plt.show()\n",
    "\n",
    "exper_pt.plot(kind = 'bar')\n",
    "plt.xlabel(\"Employee Age\")\n",
    "plt.ylabel(\"Percent Dissatisfied\")\n",
    "plt.ylim(0,1)\n",
    "L=plt.legend()\n",
    "L.get_texts()[0].set_text('Experienced')\n",
    "plt.show()\n",
    "\n",
    "estab_pt.plot(kind = 'bar', color=\"red\")\n",
    "plt.xlabel(\"Employee Age\")\n",
    "plt.ylabel(\"Percent Dissatisfied\")\n",
    "plt.ylim(0,1)\n",
    "L=plt.legend()\n",
    "L.get_texts()[0].set_text('Established')\n",
    "plt.show()\n",
    "\n",
    "estab_pt.plot(kind = 'bar', color=\"purple\")\n",
    "plt.xlabel(\"Employee Age\")\n",
    "plt.ylabel(\"Percent Dissatisfied\")\n",
    "plt.ylim(0,1)\n",
    "L=plt.legend()\n",
    "L.get_texts()[0].set_text('Veteran')\n",
    "plt.show()"
   ]
  },
  {
   "cell_type": "markdown",
   "metadata": {},
   "source": [
    "employment_status, gender, institute, position\n",
    "\n",
    "Can still evaluate these!"
   ]
  },
  {
   "cell_type": "code",
   "execution_count": 102,
   "metadata": {
    "collapsed": false
   },
   "outputs": [
    {
     "name": "stdout",
     "output_type": "stream",
     "text": [
      "        dissatisfied\n",
      "gender              \n",
      "Female      0.370283\n",
      "Male        0.398810\n"
     ]
    }
   ],
   "source": [
    "gender_dis_pt = combined_updated.pivot_table(index=\"gender\",\n",
    "                                             values=\"dissatisfied\")\n",
    "print(gender_dis_pt)"
   ]
  },
  {
   "cell_type": "code",
   "execution_count": 103,
   "metadata": {
    "collapsed": false
   },
   "outputs": [
    {
     "data": {
      "text/plain": [
       "Permanent Full-time    256\n",
       "Permanent Part-time    150\n",
       "Temporary Full-time    120\n",
       "NaN                     54\n",
       "Temporary Part-time     37\n",
       "Contract/casual         29\n",
       "Casual                   5\n",
       "Name: employment_status, dtype: int64"
      ]
     },
     "execution_count": 103,
     "metadata": {},
     "output_type": "execute_result"
    }
   ],
   "source": [
    "combined_updated[\"employment_status\"].value_counts(dropna=False)"
   ]
  }
 ],
 "metadata": {
  "kernelspec": {
   "display_name": "Python 3",
   "language": "python",
   "name": "python3"
  },
  "language_info": {
   "codemirror_mode": {
    "name": "ipython",
    "version": 3
   },
   "file_extension": ".py",
   "mimetype": "text/x-python",
   "name": "python",
   "nbconvert_exporter": "python",
   "pygments_lexer": "ipython3",
   "version": "3.4.3"
  }
 },
 "nbformat": 4,
 "nbformat_minor": 2
}
